{
 "cells": [
  {
   "cell_type": "code",
   "execution_count": 1,
   "metadata": {},
   "outputs": [
    {
     "name": "stdout",
     "output_type": "stream",
     "text": [
      "[[11 22]\n",
      " [13 24]\n",
      " [15 26]]\n"
     ]
    }
   ],
   "source": [
    "import numpy as np\n",
    "\n",
    "# Given list of size-2 lists\n",
    "list_of_lists = [[1, 2], [3, 4], [5, 6]]\n",
    "\n",
    "# Convert the list to a NumPy array\n",
    "array = np.array(list_of_lists)\n",
    "\n",
    "# Values to add\n",
    "add_value_first = 10\n",
    "add_value_second = 20\n",
    "\n",
    "# Create an array with the values to add\n",
    "add_values = np.array([add_value_first, add_value_second])\n",
    "\n",
    "# Add the values to each entry in the array\n",
    "result_array = array + add_values\n",
    "\n",
    "print(result_array)\n"
   ]
  }
 ],
 "metadata": {
  "kernelspec": {
   "display_name": "torch01",
   "language": "python",
   "name": "python3"
  },
  "language_info": {
   "codemirror_mode": {
    "name": "ipython",
    "version": 3
   },
   "file_extension": ".py",
   "mimetype": "text/x-python",
   "name": "python",
   "nbconvert_exporter": "python",
   "pygments_lexer": "ipython3",
   "version": "3.9.19"
  }
 },
 "nbformat": 4,
 "nbformat_minor": 2
}
