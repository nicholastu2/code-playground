{
 "cells": [
  {
   "cell_type": "code",
   "execution_count": 1,
   "metadata": {},
   "outputs": [],
   "source": [
    "import pandas as pd\n",
    "\n",
    "# Load your CSV file\n",
    "df = pd.read_csv(r\"R:\\FIVE\\EXP\\FIV946\\Pre Check v1 NT.csv\")\n",
    "\n",
    "# Define a function that checks if 'RaftID' contains '0' and '5' in the specified pattern\n",
    "def check_raft_id(raft_id):\n",
    "    # Splitting RaftID to check individual characters\n",
    "    parts = list(raft_id)\n",
    "    for i in range(len(parts) - 1):\n",
    "        # Check if any of the adjacent characters are '0' or '5'\n",
    "        if parts[i] in ['0', '5'] and parts[i+1] in ['0', '5']:\n",
    "            return True\n",
    "    return False\n",
    "\n",
    "# Apply the function to each row and update a new column with \"Fiducial\" where the condition is met\n",
    "df['Fiducial'] = df['RaftID'].apply(lambda x: \"Fiducial\" if check_raft_id(x) else \"\")\n",
    "\n",
    "# Save the modified DataFrame to a new CSV file\n",
    "df.to_csv(r\"R:\\FIVE\\EXP\\FIV946\\Pre Check v1 NT - Fiducial added.csv\", index=False)\n"
   ]
  },
  {
   "cell_type": "code",
   "execution_count": 2,
   "metadata": {},
   "outputs": [],
   "source": [
    "import pandas as pd\n",
    "\n",
    "# Load the CSV file into a DataFrame\n",
    "df = pd.read_csv(r\"R:\\FIVE\\EXP\\FIV946\\Pre Check v1 NT.csv\")  # Make sure to adjust this path to your file\n",
    "\n",
    "# Define the function to check for '0' and '5' in 'RaftID'\n",
    "def contains_0_and_5(raft_id):\n",
    "    return '0' in raft_id and '5' in raft_id\n",
    "\n",
    "# Apply the function to each row in 'RaftID' and set \"Fiducial\" in a new column if the condition is met\n",
    "df['Fiducial'] = df['RaftID'].apply(lambda x: \"Fiducial\" if contains_0_and_5(x) else \"\")\n",
    "\n",
    "# Save the updated DataFrame back to a CSV file\n",
    "df.to_csv(r\"R:\\FIVE\\EXP\\FIV946\\Pre Check v1 NT - Fiducial added.csv\", index=False)  # Adjust the output path as needed\n"
   ]
  }
 ],
 "metadata": {
  "kernelspec": {
   "display_name": "myenv4",
   "language": "python",
   "name": "python3"
  },
  "language_info": {
   "codemirror_mode": {
    "name": "ipython",
    "version": 3
   },
   "file_extension": ".py",
   "mimetype": "text/x-python",
   "name": "python",
   "nbconvert_exporter": "python",
   "pygments_lexer": "ipython3",
   "version": "3.8.12"
  }
 },
 "nbformat": 4,
 "nbformat_minor": 2
}
