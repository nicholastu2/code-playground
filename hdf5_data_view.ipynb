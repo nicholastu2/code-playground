{
 "cells": [
  {
   "cell_type": "code",
   "execution_count": 4,
   "metadata": {},
   "outputs": [],
   "source": [
    "import numpy as np\n",
    "import h5py"
   ]
  },
  {
   "cell_type": "code",
   "execution_count": 6,
   "metadata": {},
   "outputs": [],
   "source": [
    "f = h5py.File(r\"C:\\Users\\FIVE\\Desktop\\data\\Visium HD Spatial Gene Expression Library, Mouse Brain (FFPE)\\Output Files\\Feature slice H5.h5\", 'r')"
   ]
  },
  {
   "cell_type": "code",
   "execution_count": 7,
   "metadata": {},
   "outputs": [
    {
     "data": {
      "text/plain": [
       "['feature_slices',\n",
       " 'features',\n",
       " 'images',\n",
       " 'masks',\n",
       " 'reads',\n",
       " 'secondary_analysis',\n",
       " 'umis']"
      ]
     },
     "execution_count": 7,
     "metadata": {},
     "output_type": "execute_result"
    }
   ],
   "source": [
    "list(f.keys())"
   ]
  },
  {
   "cell_type": "code",
   "execution_count": 15,
   "metadata": {},
   "outputs": [
    {
     "name": "stdout",
     "output_type": "stream",
     "text": [
      "<class 'h5py._hl.group.Group'>\n"
     ]
    }
   ],
   "source": [
    "data = f['features']\n",
    "print(type(data))\n",
    "    \n",
    "# # get the minimum value\n",
    "# print(min(data)) \n",
    "    \n",
    "# # get the maximum value\n",
    "# print(max(data))\n",
    "    \n",
    "# # get the values ranging from index 0 to 15\n",
    "# print(data[:15])"
   ]
  },
  {
   "cell_type": "code",
   "execution_count": 16,
   "metadata": {},
   "outputs": [
    {
     "name": "stdout",
     "output_type": "stream",
     "text": [
      "_all_tag_keys\n",
      "feature_type\n",
      "genome\n",
      "id\n",
      "name\n",
      "target_sets\n"
     ]
    }
   ],
   "source": [
    "for point in data:\n",
    "    print(point)"
   ]
  }
 ],
 "metadata": {
  "kernelspec": {
   "display_name": "h5",
   "language": "python",
   "name": "python3"
  },
  "language_info": {
   "codemirror_mode": {
    "name": "ipython",
    "version": 3
   },
   "file_extension": ".py",
   "mimetype": "text/x-python",
   "name": "python",
   "nbconvert_exporter": "python",
   "pygments_lexer": "ipython3",
   "version": "3.12.3"
  }
 },
 "nbformat": 4,
 "nbformat_minor": 2
}
