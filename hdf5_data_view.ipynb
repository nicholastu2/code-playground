{
 "cells": [
  {
   "cell_type": "code",
   "execution_count": null,
   "metadata": {},
   "outputs": [
    {
     "ename": "",
     "evalue": "",
     "output_type": "error",
     "traceback": [
      "\u001b[1;31mThe kernel failed to start as a dll could not be loaded.\n",
      "\u001b[1;31mClick <a href='https://aka.ms/kernelFailuresDllLoad'>here</a> for more info."
     ]
    }
   ],
   "source": [
    "import numpy as np\n",
    "import h5py"
   ]
  },
  {
   "cell_type": "code",
   "execution_count": null,
   "metadata": {},
   "outputs": [
    {
     "ename": "",
     "evalue": "",
     "output_type": "error",
     "traceback": [
      "\u001b[1;31mThe kernel failed to start as a dll could not be loaded.\n",
      "\u001b[1;31mClick <a href='https://aka.ms/kernelFailuresDllLoad'>here</a> for more info."
     ]
    }
   ],
   "source": [
    "f = h5py.File(\"S:\\Phys\\FIV925 XSection\\Datasets\\SpinalAtlas\\Visium HD\\binned_outputs\\square_002um\\filtered_feature_bc_matrix.h5\", 'r')"
   ]
  },
  {
   "cell_type": "code",
   "execution_count": 7,
   "metadata": {},
   "outputs": [
    {
     "data": {
      "text/plain": [
       "['feature_slices',\n",
       " 'features',\n",
       " 'images',\n",
       " 'masks',\n",
       " 'reads',\n",
       " 'secondary_analysis',\n",
       " 'umis']"
      ]
     },
     "execution_count": 7,
     "metadata": {},
     "output_type": "execute_result"
    }
   ],
   "source": [
    "list(f.keys())"
   ]
  },
  {
   "cell_type": "code",
   "execution_count": 15,
   "metadata": {},
   "outputs": [
    {
     "name": "stdout",
     "output_type": "stream",
     "text": [
      "<class 'h5py._hl.group.Group'>\n"
     ]
    }
   ],
   "source": [
    "data = f['features']\n",
    "print(type(data))\n",
    "    \n",
    "# # get the minimum value\n",
    "# print(min(data)) \n",
    "    \n",
    "# # get the maximum value\n",
    "# print(max(data))\n",
    "    \n",
    "# # get the values ranging from index 0 to 15\n",
    "# print(data[:15])"
   ]
  },
  {
   "cell_type": "code",
   "execution_count": 16,
   "metadata": {},
   "outputs": [
    {
     "name": "stdout",
     "output_type": "stream",
     "text": [
      "_all_tag_keys\n",
      "feature_type\n",
      "genome\n",
      "id\n",
      "name\n",
      "target_sets\n"
     ]
    }
   ],
   "source": [
    "for point in data:\n",
    "    print(point)"
   ]
  }
 ],
 "metadata": {
  "kernelspec": {
   "display_name": "h5",
   "language": "python",
   "name": "python3"
  },
  "language_info": {
   "codemirror_mode": {
    "name": "ipython",
    "version": 3
   },
   "file_extension": ".py",
   "mimetype": "text/x-python",
   "name": "python",
   "nbconvert_exporter": "python",
   "pygments_lexer": "ipython3",
   "version": "3.12.3"
  }
 },
 "nbformat": 4,
 "nbformat_minor": 2
}
