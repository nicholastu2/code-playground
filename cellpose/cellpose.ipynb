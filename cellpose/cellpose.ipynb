{
 "cells": [
  {
   "cell_type": "code",
   "execution_count": 1,
   "metadata": {},
   "outputs": [
    {
     "name": "stderr",
     "output_type": "stream",
     "text": [
      "c:\\Users\\FIVE\\anaconda3\\envs\\cellpose\\lib\\site-packages\\tqdm\\auto.py:21: TqdmWarning: IProgress not found. Please update jupyter and ipywidgets. See https://ipywidgets.readthedocs.io/en/stable/user_install.html\n",
      "  from .autonotebook import tqdm as notebook_tqdm\n"
     ]
    }
   ],
   "source": [
    "import numpy as np\n",
    "from numpy import asarray\n",
    "import matplotlib.pyplot as plt\n",
    "from cellpose import plot, utils, io\n",
    "import imageio.v3 as iio\n",
    "from PIL import Image\n",
    "\n",
    "# FROM https://cellpose.readthedocs.io/en/latest/outputs.html#seg-npy-output\n",
    "# dat = np.load(r\"S:\\Phys\\FIV925 XSection\\Datasets\\Brain\\ToVizCom\\masks\\tile_21120_12288_seg.npy\", allow_pickle=True).item()\n",
    "dat = np.load(r\"S:\\Phys\\FIV925 XSection\\Datasets\\Human Lung\\Tiles\\Subset\\tile_1152_4992_seg.npy\", allow_pickle=True).item()\n",
    "img = io.imread(r\"S:\\Phys\\FIV925 XSection\\Datasets\\Human Lung\\Tiles\\Subset\\tile_1152_4992.png\")\n",
    "# img = iio.imread(r\"S:\\Phys\\FIV925 XSection\\Datasets\\Brain\\ToVizCom\\tile_21120_13056.png\")\n",
    "# pil_img = Image.open(r\"S:\\Phys\\FIV925 XSection\\Datasets\\Brain\\ToVizCom\\tile_21120_13056.png\")\n",
    "# img = asarray(pil_img)\n",
    "# plot image with masks overlaid\n",
    "mask_RGB = plot.mask_overlay(img, dat['masks'],\n",
    "                        colors=np.array(dat['colors']))\n",
    "\n",
    "# plot image with outlines overlaid in red\n",
    "outlines = utils.outlines_list(dat['masks'])\n",
    "fig, ax = plt.subplots( nrows=1, ncols=1 )\n",
    "plt.imshow(img, cmap='gray', vmin=0, vmax=255)\n",
    "for o in outlines:\n",
    "    ax.plot(o[:,0], o[:,1], color='r')\n",
    "\n",
    "# FROM ChatGPT\n",
    "# fig.savefig(r\"C:\\Users\\FIVE\\Desktop\\code-playground\\tile_21120_13056_anno.png\")\n",
    "ax.axis('off')  # Removes the axes\n",
    "plt.xticks([]), plt.yticks([])  # Removes the ticks\n",
    "plt.box(False)  # Removes the box around the image\n",
    "\n",
    "# Save the figure\n",
    "plt.savefig('path_to_save_your_image.png', bbox_inches='tight', pad_inches=0)\n",
    "plt.close(fig)"
   ]
  }
 ],
 "metadata": {
  "kernelspec": {
   "display_name": "myenv4",
   "language": "python",
   "name": "python3"
  },
  "language_info": {
   "codemirror_mode": {
    "name": "ipython",
    "version": 3
   },
   "file_extension": ".py",
   "mimetype": "text/x-python",
   "name": "python",
   "nbconvert_exporter": "python",
   "pygments_lexer": "ipython3",
   "version": "3.8.18"
  }
 },
 "nbformat": 4,
 "nbformat_minor": 2
}
