{
 "cells": [
  {
   "cell_type": "code",
   "execution_count": 2,
   "metadata": {},
   "outputs": [
    {
     "name": "stderr",
     "output_type": "stream",
     "text": [
      "C:\\Users\\FIVE\\AppData\\Local\\Temp\\ipykernel_13148\\398229713.py:13: DeprecationWarning: Starting with ImageIO v3 the behavior of this function will switch to that of iio.v3.imread. To keep the current behavior (and make this warning disappear) use `import imageio.v2 as imageio` or call `imageio.v2.imread` directly.\n",
      "  image = imageio.imread(image_path)\n"
     ]
    },
    {
     "name": "stdout",
     "output_type": "stream",
     "text": [
      "\n",
      "0: 320x448 300 1s, 221.6ms\n",
      "Speed: 23.0ms preprocess, 221.6ms inference, 400.1ms postprocess per image at shape (1, 3, 320, 448)\n"
     ]
    }
   ],
   "source": [
    "from ultralytics import YOLO\n",
    "from PIL import Image\n",
    "import imageio\n",
    "\n",
    "Image.MAX_IMAGE_PIXELS = None\n",
    "\n",
    "# Macro model?\n",
    "# model = YOLO(r\"S:\\Phys\\FIV925 XSection\\Datasets\\AllenBA\\02f\\YO 640 0626 MAXI\\map75=0908666 YOLOv8l-seg map75=059466 idx=6 ep=38 btch=16 rnd=8243093\\weights\\best.pt\")\n",
    "\n",
    "# Micro model?\n",
    "model = YOLO(r\"S:\\Phys\\FIV925 XSection\\Datasets\\Brain\\01c\\YO 432 0515 Yeti\\map75=0669758 yolov9c .pt idx=4 ep=8 btch=8 rnd=4229985\\weights\\best.pt\")\n",
    "\n",
    "image_path = r\"C:\\Users\\FIVE\\Desktop\\data\\Visium HD Spatial Gene Expression Library, Human Colorectal Cancer (FFPE)\\Input Files\\Microscope image\\Visium_HD_Human_Colon_Cancer_tissue_image.btf\"\n",
    "image = imageio.imread(image_path)\n",
    "\n",
    "predictions = model.predict(image)\n"
   ]
  },
  {
   "cell_type": "code",
   "execution_count": 3,
   "metadata": {},
   "outputs": [
    {
     "name": "stdout",
     "output_type": "stream",
     "text": [
      "done\n"
     ]
    }
   ],
   "source": [
    "predictions[0].show()\n",
    "print(\"done\")"
   ]
  }
 ],
 "metadata": {
  "kernelspec": {
   "display_name": "torch01",
   "language": "python",
   "name": "python3"
  },
  "language_info": {
   "codemirror_mode": {
    "name": "ipython",
    "version": 3
   },
   "file_extension": ".py",
   "mimetype": "text/x-python",
   "name": "python",
   "nbconvert_exporter": "python",
   "pygments_lexer": "ipython3",
   "version": "3.9.19"
  }
 },
 "nbformat": 4,
 "nbformat_minor": 2
}
