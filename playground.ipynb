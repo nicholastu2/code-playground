{
 "cells": [
  {
   "cell_type": "markdown",
   "metadata": {},
   "source": [
    "can delete"
   ]
  },
  {
   "cell_type": "code",
   "execution_count": 1,
   "metadata": {},
   "outputs": [],
   "source": [
    "import os"
   ]
  },
  {
   "cell_type": "code",
   "execution_count": 2,
   "metadata": {},
   "outputs": [],
   "source": [
    "m_folder = r\"S:\\Phys\\FIV925 XSection\\Datasets\\Creed\\20240406\""
   ]
  },
  {
   "cell_type": "code",
   "execution_count": 3,
   "metadata": {},
   "outputs": [
    {
     "name": "stdout",
     "output_type": "stream",
     "text": [
      "<class 'generator'>\n"
     ]
    }
   ],
   "source": [
    "print(type(os.walk(m_folder)))"
   ]
  },
  {
   "cell_type": "code",
   "execution_count": 13,
   "metadata": {},
   "outputs": [
    {
     "name": "stdout",
     "output_type": "stream",
     "text": [
      "iteration:  0\n",
      "root:  S:\\Phys\\FIV925 XSection\\Datasets\\Creed\\20240406 dirs: ['SET1_CROPPED ROI2', 'SET1_CROPPED ROI4', 'SET1_CROPPED ROI6', 'SET2_CROPPED ROI1', 'SET2_CROPPED ROI2', 'SET2_CROPPED ROI_ANTERIOR', 'SET2_CROPPED ROI_POSTERIOR'] files:  ['20240406 Creed 01.dxp', '20240407 Cells 01.csv', '20240407 Cells 02.csv', 'Res002.txt', 'Res002_Names.txt']\n",
      "<class 'str'>\n",
      "iteration:  1\n",
      "root:  S:\\Phys\\FIV925 XSection\\Datasets\\Creed\\20240406\\SET1_CROPPED ROI2 dirs: [] files:  ['R1_T0_DAPI_ROI2_TopRight_Merged.tif', 'R1_T1_Cre_ROI2_TopRight_Merged.tif', 'R1_T2_Flp_ROI2_TopRight_Merged.tif', 'R1_T3_ChAT_ROI2_TopRight_Merged.tif', 'R2_T4_Prdm16_Ch3_ROI2_TopRight_Merged_R.tif', 'R2_T5_CCK_Ch2_ROI2_TopRight_Merged_R.tif', 'R2_T6_Prox1_Ch1_ROI2_TopRight_Merged_R.tif', 'R3_T7_Slc17a6_ROI2_TopRight_Round3_Merged_R.tif', 'R3_T8_Trp73_ROI2_TopRight_R.tif', 'R3_T9_Gad2_ROI2_TopRight_Round3_Merged_R.tif', 'R4_T10_Drd1_ROI2-Merged_R.tif', 'R4_T11_Pde11a_ROI2-Merged_R.tif', 'R4_T12_Egfr_ROI2-Merged_R.tif', 'Thumbs.db']\n",
      "<class 'str'>\n",
      "iteration:  2\n",
      "root:  S:\\Phys\\FIV925 XSection\\Datasets\\Creed\\20240406\\SET1_CROPPED ROI4 dirs: [] files:  ['R1_T0_DAPI_Ch4_ROI4_MiddleRight_Merged.tif', 'R1_T1_Cre_Ch3_ROI4_MiddleRight_Merged.tif', 'R1_T2_Flp_Ch2_ROI4_MiddleRight_Merged.tif', 'R1_T3_ChAT_Ch1_ROI4_MiddleRight_Merged.tif', 'R2_T4_Prdm16_ROI4_MiddleRight_Merged_R.tif', 'R2_T5_CCK_ROI4_MiddleRight_Merged_R.tif', 'R2_T6_Prox1_012524_ROI4_MiddleRight_Merged_R.tif', 'R3_T7_Slc17a6_012924_ROI4_MiddleRight_Round3_Merged_z00_.tif', 'R3_T8_Trp73_012924_ROI4_MiddleRight_Round3_Merged_z00_ch.tif', 'R3_T9_Gad2_012924_ROI4_MiddleRight_Round3_Merged_z00_ch0.tif', 'R4_T10_Drd1_Ch3_ROI4-Merged_R.tif', 'R4_T11_Pde11a_Ch2_ROI4-Merged_R.tif', 'R4_T12_Egfr_ROI4-Merged_R.tif', 'Thumbs.db']\n",
      "<class 'str'>\n",
      "iteration:  3\n",
      "root:  S:\\Phys\\FIV925 XSection\\Datasets\\Creed\\20240406\\SET1_CROPPED ROI6 dirs: [] files:  ['R1_T0_DAPI_ROI6_F1_Set1.tif', 'R1_T1_Cre_ROI6_F1_Set1.tif', 'R1_T2_Flp_ROI6_F1_Set1.tif', 'R1_T3_ChAT_ROI6_F1_Set1.tif', 'R2_T4_Prdm16_Ch3_ROI6_BottomRight_Merged_R.tif', 'R2_T5_CCK_Ch2_ROI6_BottomRight_Merged_R.tif', 'R2_T6_Lypd1_012524_ROI6_BottomRight_Merged_R.tif', 'R3_T7_Slc17a6_ROI6_F1_Set1_R.tif', 'R3_T8_Trp73_ROI6_F1_Set1_R.tif', 'R3_T9_Gad2_ROI6_F1_Set1_R.tif', 'R4_T10_Drd1_Ch3_ROI6-Merged_R.tif', 'R4_T11_Pde11a_Ch2_ROI6-Merged_R.tif', 'R4_T12_Egfr_Ch1_ROI6-Merged_R.tif', 'Thumbs.db']\n",
      "<class 'str'>\n",
      "iteration:  4\n",
      "root:  S:\\Phys\\FIV925 XSection\\Datasets\\Creed\\20240406\\SET2_CROPPED ROI1 dirs: [] files:  ['R1_T0_DAPI_Ch4_ProbeSet2_M1_030724_ROI1_Merged.tif', 'R1_T1_Cre_Ch3_ProbeSet2_M1_030724_ROI1_Merged.tif', 'R1_T2_Flp_Ch2_ProbeSet2_M1_030724_ROI1_Merged.tif', 'R1_T3_Tac1_Ch1_ProbeSet2_M1_030724_ROI1_Merged.tif', 'R2_T4_Cacna2d2_Ch3_ProbeSet2_M1_030924_ROI1_Merged_R.tif', 'R2_T5_Calcr_Ch2_ProbeSet2_030924_ROI1_Merged_R.tif', 'R2_T6_Lypd1_Ch1_ProbeSet2_M1_030924_ROI1_Merged_R.tif', 'R3_T7_Drd2_031224_ROI1_R.tif', 'R3_T8_Bnc2_031224_ROI1_R.tif', 'R3_T9_Gad2_031224_ROI1_R.tif', 'R4_T10_Drd1_031324_ROI1_R.tif', 'R4_T11_Drd3_031324_ROI1_R.tif', 'R4_T12_SST_031324_ROI1_R.tif', 'Thumbs.db']\n",
      "<class 'str'>\n",
      "iteration:  5\n",
      "root:  S:\\Phys\\FIV925 XSection\\Datasets\\Creed\\20240406\\SET2_CROPPED ROI2 dirs: [] files:  ['R1_T0_DAPI_Ch4_ProbeSet2_M1_030724_ROI2_Merged.tif', 'R1_T1_Cre_Ch3_ProbeSet2_M1_030724_ROI2_Merged.tif', 'R1_T2_Flp_Ch2_HiPlex_ProbeSet2_M1_030724_ROI2_Merged.tif', 'R1_T3_Tac1_Ch1_ProbeSet2_M1_030724_ROI2_Merged.tif', 'R2_T4_Cacna2d2_Ch3_ProbeSet2_M1_030924_ROI2_Merged_R.tif', 'R2_T5_Calcr_Ch2_ProbeSet2_M1_030924_ROI2_Merged_R.tif', 'R2_T6_Lypd1_Ch1_ProbeSet2_M1_030924_ROI2_Merged_R.tif', 'R3_T7_Drd2_031224_ROI2_R.tif', 'R3_T8_Bnc2_031224_ROI2_R.tif', 'R3_T9_Gad2_031224_ROI2_R.tif', 'R4_T10_Drd1_031324_ROI2_R.tif', 'R4_T11_Drd3_031324_ROI2_R.tif', 'R4_T12_SST_031324_ROI2_R.tif']\n",
      "<class 'str'>\n",
      "iteration:  6\n",
      "root:  S:\\Phys\\FIV925 XSection\\Datasets\\Creed\\20240406\\SET2_CROPPED ROI_ANTERIOR dirs: [] files:  ['R1_T0_DAPI_M1MoreSections_033024_Anterior_Mer.tif', 'R1_T1_Cre_Ch3_Round1_T1-T3_M1MoreSections_033024_Anteri.tif', 'R1_T2_Flp_Ch2_Round1_T1-T3_M1MoreSections_033024_Anteri.tif', 'R1_T3_Tac1_033024_Anterior_Merged T.tif', 'R2_T4_Cacna2d2_Ch3_ProbeSet2_M1_Anterior_R.tif', 'R2_T5_Calcr_Ch2_ProbeSet2_M1_Anterior_R.tif', 'R2_T6_Lypd1_Ch1_ProbeSet2_M1_Anterior_R.tif', 'R3_T7_Drd2_032824_M1MoreSections_Merged_Anterior_R.tif', 'R3_T8_Bnc2_032824_M1MoreSections_Merged_Anterior_R.tif', 'R3_T9_Gad2_032824_M1MoreSections_Merged_Anterior_R.tif', 'R4_T10_Drd1_Ch3_ProbeSet2_M1MoreSections_032924_Anterior.tif', 'R4_T11_Drd3_Ch2_ProbeSet2_M1MoreSections_032924_Anterior.tif', 'R4_T12_SST_Ch1_ProbeSet2_M1MoreSections_032924_Anterior_.tif']\n",
      "<class 'str'>\n",
      "iteration:  7\n",
      "root:  S:\\Phys\\FIV925 XSection\\Datasets\\Creed\\20240406\\SET2_CROPPED ROI_POSTERIOR dirs: [] files:  ['R1_T0_DAPI_Ch4_M1MoreSections_033024_Posterior_Me.tif', 'R1_T1_Cre_Ch3_M1MoreSections_033024_Posterior_.tif', 'R1_T2_Flp_Ch2_M1MoreSections_033024_Posterior_.tif', 'R1_T3_Tac1_Ch1_M1MoreSections_033024_Posterior_Merged T1.tif', 'R2_T4_Cacna2d2_Ch3_ProbeSet2_M1_Posterior_R.tif', 'R2_T5_Calcr_Ch2_ProbeSet2_M1_Posterior_R.tif', 'R2_T6_Lypd1_Ch1_ProbeSet2_M1_Posterior_R.tif', 'R3_T7_Drd2_Ch3_ProbeSet2_032824_Posterior_M1_R.tif', 'R3_T8_Bnc2_Ch2_ProbeSet2_032824_Posterior_M1_R.tif', 'R3_T9_Gad2_Ch1_ProbeSet2_032824_Posterior_M1_R.tif', 'R4_T10_Drd1_Ch3_ProbeSet2_M1MoreSections_032924_Posterio.tif', 'R4_T11_Drd3_Ch2_ProbeSet2_M1MoreSections_032924_Posterio.tif', 'R4_T12_SST_Ch1_ProbeSet2_M1MoreSections_032924_Posterior.tif', 'Thumbs.db']\n",
      "<class 'str'>\n"
     ]
    }
   ],
   "source": [
    "x = 0\n",
    "for root, dirs, files in os.walk(m_folder):\n",
    "    print(\"iteration: \", x)\n",
    "    print(\"root: \",root, \"dirs:\", dirs, \"files: \", files)\n",
    "    print(type(files[0]))\n",
    "    x += 1"
   ]
  },
  {
   "cell_type": "code",
   "execution_count": 11,
   "metadata": {},
   "outputs": [
    {
     "name": "stdout",
     "output_type": "stream",
     "text": [
      "['20240406 Creed 01.dxp', '20240407 Cells 01.csv', '20240407 Cells 02.csv', 'Res002.txt', 'Res002_Names.txt']\n"
     ]
    }
   ],
   "source": [
    "print(next(os.walk(m_folder))[2])"
   ]
  },
  {
   "cell_type": "code",
   "execution_count": 18,
   "metadata": {},
   "outputs": [
    {
     "name": "stdout",
     "output_type": "stream",
     "text": [
      "True\n"
     ]
    }
   ],
   "source": [
    "a = \"hi\"\n",
    "b = \"hifgfgerheherhg\"\n",
    "print(a in b)"
   ]
  }
 ],
 "metadata": {
  "kernelspec": {
   "display_name": "newenv",
   "language": "python",
   "name": "python3"
  },
  "language_info": {
   "codemirror_mode": {
    "name": "ipython",
    "version": 3
   },
   "file_extension": ".py",
   "mimetype": "text/x-python",
   "name": "python",
   "nbconvert_exporter": "python",
   "pygments_lexer": "ipython3",
   "version": "3.9.19"
  }
 },
 "nbformat": 4,
 "nbformat_minor": 2
}
