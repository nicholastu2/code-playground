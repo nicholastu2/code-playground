{
 "cells": [
  {
   "cell_type": "code",
   "execution_count": 1,
   "metadata": {},
   "outputs": [],
   "source": [
    "import pandas as pd\n",
    "df = pd.read_parquet(r\"S:\\Phys\\FIV925 XSection\\Datasets\\SpinalAtlas\\Visium HD\\binned_outputs\\square_016um\\spatial\\tissue_positions.parquet\")\n",
    "df.to_csv(r\"S:\\Phys\\FIV925 XSection\\Datasets\\SpinalAtlas\\Visium HD\\binned_outputs\\square_002um\\spatial\\tissue_positions_016.csv\")"
   ]
  }
 ],
 "metadata": {
  "kernelspec": {
   "display_name": "h5",
   "language": "python",
   "name": "python3"
  },
  "language_info": {
   "codemirror_mode": {
    "name": "ipython",
    "version": 3
   },
   "file_extension": ".py",
   "mimetype": "text/x-python",
   "name": "python",
   "nbconvert_exporter": "python",
   "pygments_lexer": "ipython3",
   "version": "3.9.19"
  }
 },
 "nbformat": 4,
 "nbformat_minor": 2
}
