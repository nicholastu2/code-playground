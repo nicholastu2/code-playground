{
 "cells": [
  {
   "cell_type": "markdown",
   "metadata": {},
   "source": [
    "Neural Architecture Search (NAS)"
   ]
  },
  {
   "cell_type": "code",
   "execution_count": null,
   "metadata": {},
   "outputs": [],
   "source": [
    "from ultralytics import YOLO\n",
    "from PIL import Image\n",
    "from IPython.display import display\n",
    "import numpy as np\n",
    "import pandas as pd\n",
    "import os\n",
    "import shutil\n",
    "from IPython.display import clear_output\n",
    "from random import randint\n",
    "import re\n",
    "import FIVE_ML_Func01\n",
    "import time\n",
    "import sys\n",
    "import select"
   ]
  },
  {
   "cell_type": "code",
   "execution_count": null,
   "metadata": {},
   "outputs": [],
   "source": [
    "def sanitize_for_filesystem(input_string, len = 6):\n",
    "    safe_string = re.sub(r'[^a-zA-Z0-9]', '', input_string)\n",
    "    return safe_string[:len]"
   ]
  },
  {
   "cell_type": "code",
   "execution_count": null,
   "metadata": {},
   "outputs": [],
   "source": [
    "def wait_for_keypress(timeout):\n",
    "    print(\"Press any key within {} seconds...\".format(timeout))\n",
    "    rlist, _, _ = select.select([sys.stdin], [], [], timeout)\n",
    "    if rlist:\n",
    "        return True\n",
    "    else:\n",
    "        return False"
   ]
  },
  {
   "cell_type": "code",
   "execution_count": null,
   "metadata": {},
   "outputs": [],
   "source": [
    "runs_folder_path = r'C:\\Users\\FIVE\\Desktop\\code-playground\\runs\\detect'\n",
    "base_train_path = r\"S:\\Phys\\FIV942 Adipo\\Datasets\\2h5\\UNet 00029 Ep480 images_infer 1\"\n",
    "base_model_path = os.path.join(base_train_path,\"M YOLO\")\n",
    "epochMin = 2; epochMax = 1000\n",
    "imgWidth = 512\n",
    "\n",
    "os.makedirs(base_model_path, exist_ok=True)\n",
    "\n",
    "model = YOLO(r'S:\\Phys\\FIV942 Adipo\\Yolo\\yolov8n.pt')\n",
    "for run in range(1000):\n",
    "    epochVal = epochMin if run < 2 else randint(epochMin,epochMax)\n",
    "    nameRun = \"run-\" + str(run) + \" epoch-\" + str(epochVal)\n",
    "    \n",
    "    # model = YOLO(r'S:\\Phys\\FIV942 Adipo\\Yolo\\yolov8n.pt')  # load a pretrained model\n",
    "    results = model.train(data=os.path.join(base_train_path, 'data.yaml'), epochs=epochVal, imgsz=imgWidth, patience=epochVal//8, batch=-1, cache=True, name=nameRun)\n",
    "    \n",
    "    #loss_str = str(results.speed['loss'])\n",
    "    loss_str = str(results.box.map75)\n",
    "    newNameRun = sanitize_for_filesystem(loss_str, 6) + \" \" + nameRun\n",
    "    current_folder_path = os.path.join(runs_folder_path, nameRun)\n",
    "    new_folder_path = os.path.join(base_model_path, newNameRun)\n",
    "    \n",
    "    # FIVE_ML_Func01.OccasionalWait(10, 3, 10)\n",
    "    \n",
    "\n",
    "    \n",
    "    shutil.copytree(current_folder_path, new_folder_path)\n",
    "    shutil.rmtree(current_folder_path)\n",
    "    print(f\"Folder renamed from {current_folder_path} to {new_folder_path}\")\n",
    "    \n",
    "    key_pressed = wait_for_keypress(5)\n",
    "    if key_pressed:\n",
    "        \n",
    "    \n",
    "    clear_output(wait=True);"
   ]
  },
  {
   "cell_type": "code",
   "execution_count": null,
   "metadata": {},
   "outputs": [],
   "source": [
    "results.save_dir"
   ]
  },
  {
   "cell_type": "markdown",
   "metadata": {},
   "source": [
    "Image (Polygon) Segmentation"
   ]
  },
  {
   "cell_type": "code",
   "execution_count": null,
   "metadata": {},
   "outputs": [],
   "source": [
    "from PIL import Image"
   ]
  },
  {
   "cell_type": "code",
   "execution_count": null,
   "metadata": {},
   "outputs": [],
   "source": [
    "from ultralytics import YOLO\n",
    "\n",
    "model = YOLO('yolov8n-seg.pt')\n",
    "\n",
    "results = model('https://ultralytics.com/images/bus.jpg') # seems like this is the same as model.predict\n"
   ]
  },
  {
   "cell_type": "code",
   "execution_count": null,
   "metadata": {},
   "outputs": [],
   "source": [
    "im_bgr = results[0].plot()"
   ]
  },
  {
   "cell_type": "code",
   "execution_count": null,
   "metadata": {},
   "outputs": [],
   "source": [
    "im_rgb = Image.fromarray(im_bgr[..., ::-1])"
   ]
  },
  {
   "cell_type": "code",
   "execution_count": null,
   "metadata": {},
   "outputs": [],
   "source": [
    "im_rgb.show()"
   ]
  },
  {
   "cell_type": "markdown",
   "metadata": {},
   "source": [
    "<h1>FIV942 Image Segmentation</h1>"
   ]
  },
  {
   "cell_type": "markdown",
   "metadata": {},
   "source": [
    "<h2>Imports</h2>"
   ]
  },
  {
   "cell_type": "code",
   "execution_count": 1,
   "metadata": {},
   "outputs": [],
   "source": [
    "# Imports\n",
    "from PIL import Image\n",
    "from ultralytics import YOLO\n",
    "import json\n",
    "import numpy as np\n",
    "import matplotlib.path as mpltPath\n",
    "import csv\n",
    "import matplotlib as plt"
   ]
  },
  {
   "cell_type": "markdown",
   "metadata": {},
   "source": [
    "<h2>Train YOLO segment model on data</h2>"
   ]
  },
  {
   "cell_type": "code",
   "execution_count": 2,
   "metadata": {},
   "outputs": [],
   "source": [
    "model = YOLO(r\"S:\\Phys\\FIV942 Adipo\\Datasets\\02h9\\YO 512 0306 Yeti\\map75=0627829 idx=17 ep=7 mType=0 rnd=8301077\\weights\\best.pt\")\n",
    "\n",
    "# model.task = \"segment\"\n",
    "\n",
    "# results = model.train(data=r\"S:\\Phys\\FIV942 Adipo\\Datasets\\02h5\\UNet 00029 Ep480 images_infer 1\\data_poly.yaml\")"
   ]
  },
  {
   "cell_type": "markdown",
   "metadata": {},
   "source": [
    "<h2>Predict on one image</h2>"
   ]
  },
  {
   "cell_type": "code",
   "execution_count": null,
   "metadata": {},
   "outputs": [],
   "source": [
    "results = model.predict(r\"S:\\Phys\\FIV942 Adipo\\Datasets\\02h5\\UNet 00029 Ep480 images_infer 1\\yTrain\\0001.bmp\", show_labels=False, show_boxes=False) "
   ]
  },
  {
   "cell_type": "code",
   "execution_count": null,
   "metadata": {},
   "outputs": [],
   "source": [
    "im_bgr = results[0].plot()\n",
    "im_rgb = Image.fromarray(im_bgr[..., ::-1])"
   ]
  },
  {
   "cell_type": "code",
   "execution_count": null,
   "metadata": {},
   "outputs": [],
   "source": [
    "im_rgb.show()"
   ]
  },
  {
   "cell_type": "code",
   "execution_count": null,
   "metadata": {},
   "outputs": [],
   "source": [
    "results[0].save_txt(r\"S:\\Phys\\FIV942 Adipo\\Datasets\\02h5\\UNet 00029 Ep480 images_infer 1\\results.txt\")"
   ]
  },
  {
   "cell_type": "code",
   "execution_count": null,
   "metadata": {},
   "outputs": [],
   "source": [
    "results[0].tojson()"
   ]
  },
  {
   "cell_type": "code",
   "execution_count": null,
   "metadata": {},
   "outputs": [],
   "source": [
    "json_string = results[0].tojson()\n",
    "file_path = r\"S:\\Phys\\FIV942 Adipo\\Datasets\\02h5\\UNet 00029 Ep480 images_infer 1\\results1.json\"\n",
    "\n",
    "# Write the JSON string to the JSON file\n",
    "with open(file_path, \"w\") as json_file:\n",
    "    json_file.write(json_string)\n"
   ]
  },
  {
   "cell_type": "markdown",
   "metadata": {},
   "source": [
    "<h2>Predict on multiple images</h2>"
   ]
  },
  {
   "cell_type": "code",
   "execution_count": null,
   "metadata": {},
   "outputs": [],
   "source": [
    "results = model([r\"S:\\Phys\\FIV942 Adipo\\Datasets\\02h5\\UNet 00029 Ep480 images_infer 1\\yTrain\\0001.bmp\",r\"S:\\Phys\\FIV942 Adipo\\Datasets\\02h5\\UNet 00029 Ep480 images_infer 1\\yTrain\\0002.bmp\"])"
   ]
  },
  {
   "cell_type": "code",
   "execution_count": null,
   "metadata": {},
   "outputs": [],
   "source": [
    "# Visualize the results\n",
    "for i, r in enumerate(results):\n",
    "    # Plot results image\n",
    "    print(i)\n",
    "    im_bgr = r.plot()  # BGR-order numpy array\n",
    "    im_rgb = Image.fromarray(im_bgr[..., ::-1])  # RGB-order PIL image\n",
    "\n",
    "    # Show results to screen (in supported environments)\n",
    "    im_rgb.show()\n",
    "\n",
    "    # Save results to disk\n",
    "    r.save_txt(rf\"S:\\Phys\\FIV942 Adipo\\Datasets\\02h5\\UNet 00029 Ep480 images_infer 1\\results{i}.txt\")\n",
    "    \n",
    "\n",
    "    # Write the JSON string to the JSON file\n",
    "    file_path = rf\"S:\\Phys\\FIV942 Adipo\\Datasets\\02h5\\UNet 00029 Ep480 images_infer 1\\results{i}.json\"\n",
    "    json_string = results[0].tojson()\n",
    "    with open(file_path, \"w\") as json_file:\n",
    "        json_file.write(json_string)"
   ]
  },
  {
   "cell_type": "code",
   "execution_count": null,
   "metadata": {},
   "outputs": [],
   "source": [
    "json_string = results[0].tojson()"
   ]
  },
  {
   "cell_type": "code",
   "execution_count": null,
   "metadata": {},
   "outputs": [],
   "source": [
    "# Assuming your JSON string is stored in the variable json_string\n",
    "\n",
    "# Specify the file path where you want to save the JSON file\n",
    "file_path = r\"S:\\Phys\\FIV942 Adipo\\Datasets\\02h5\\UNet 00029 Ep480 images_infer 1\\results.json\"\n",
    "\n",
    "# Write the JSON string to the JSON file\n",
    "with open(file_path, \"w\") as json_file:\n",
    "    json_file.write(json_string)\n"
   ]
  },
  {
   "cell_type": "code",
   "execution_count": null,
   "metadata": {},
   "outputs": [],
   "source": [
    "im_bgr = results[1].plot()  # BGR-order numpy array\n",
    "im_rgb = Image.fromarray(im_bgr[..., ::-1])  # RGB-order PIL image\n",
    "\n",
    "# Show results to screen (in supported environments)\n",
    "im_rgb.show()"
   ]
  },
  {
   "cell_type": "code",
   "execution_count": null,
   "metadata": {},
   "outputs": [],
   "source": [
    "type(im_rgb)"
   ]
  },
  {
   "cell_type": "markdown",
   "metadata": {},
   "source": [
    "<h3>Trying to export masks</h3>"
   ]
  },
  {
   "cell_type": "code",
   "execution_count": null,
   "metadata": {},
   "outputs": [],
   "source": [
    "print(results[0].masks)"
   ]
  },
  {
   "cell_type": "code",
   "execution_count": null,
   "metadata": {},
   "outputs": [],
   "source": [
    "type(results[0].masks.data)"
   ]
  },
  {
   "cell_type": "code",
   "execution_count": null,
   "metadata": {},
   "outputs": [],
   "source": [
    "results[0].masks.data"
   ]
  },
  {
   "cell_type": "code",
   "execution_count": null,
   "metadata": {},
   "outputs": [],
   "source": [
    "tensor = results[0].masks.xy"
   ]
  },
  {
   "cell_type": "code",
   "execution_count": null,
   "metadata": {},
   "outputs": [],
   "source": [
    "print(tensor)"
   ]
  },
  {
   "cell_type": "code",
   "execution_count": null,
   "metadata": {},
   "outputs": [],
   "source": [
    "print(type(tensor))"
   ]
  },
  {
   "cell_type": "code",
   "execution_count": null,
   "metadata": {},
   "outputs": [],
   "source": [
    "import matplotlib as plt\n",
    "plt.pyplot.imshow(results[0].masks.data)"
   ]
  },
  {
   "cell_type": "code",
   "execution_count": null,
   "metadata": {},
   "outputs": [],
   "source": [
    "import torchvision.transforms as T\n",
    "transform = T.ToPILImage()\n",
    "img = transform(tensor)\n",
    "img.show()"
   ]
  },
  {
   "cell_type": "code",
   "execution_count": null,
   "metadata": {},
   "outputs": [],
   "source": [
    "type(results[0].masks)"
   ]
  },
  {
   "cell_type": "code",
   "execution_count": null,
   "metadata": {},
   "outputs": [],
   "source": [
    "results[0].plot()"
   ]
  },
  {
   "cell_type": "markdown",
   "metadata": {},
   "source": [
    "<h3>Getting areas of polygons</h3>"
   ]
  },
  {
   "cell_type": "code",
   "execution_count": 3,
   "metadata": {},
   "outputs": [
    {
     "name": "stdout",
     "output_type": "stream",
     "text": [
      "\n",
      "image 1/10 S:\\Phys\\FIV942 Adipo\\Datasets\\02h5\\UNet 00029 Ep480 images_infer 1\\yTrain\\0001.bmp: 384x384 4 Neurites, 10.0ms\n",
      "image 2/10 S:\\Phys\\FIV942 Adipo\\Datasets\\02h5\\UNet 00029 Ep480 images_infer 1\\yTrain\\0002.bmp: 384x384 9 Neurites, 10.0ms\n",
      "image 3/10 S:\\Phys\\FIV942 Adipo\\Datasets\\02h5\\UNet 00029 Ep480 images_infer 1\\yTrain\\0003.bmp: 384x384 13 Neurites, 10.0ms\n",
      "image 4/10 S:\\Phys\\FIV942 Adipo\\Datasets\\02h5\\UNet 00029 Ep480 images_infer 1\\yTrain\\0004.bmp: 384x384 6 Neurites, 12.0ms\n",
      "image 5/10 S:\\Phys\\FIV942 Adipo\\Datasets\\02h5\\UNet 00029 Ep480 images_infer 1\\yTrain\\0005.bmp: 384x384 6 Neurites, 11.0ms\n",
      "image 6/10 S:\\Phys\\FIV942 Adipo\\Datasets\\02h5\\UNet 00029 Ep480 images_infer 1\\yTrain\\0006.bmp: 384x384 9 Neurites, 17.5ms\n",
      "image 7/10 S:\\Phys\\FIV942 Adipo\\Datasets\\02h5\\UNet 00029 Ep480 images_infer 1\\yTrain\\0007.bmp: 384x384 10 Neurites, 10.0ms\n",
      "image 8/10 S:\\Phys\\FIV942 Adipo\\Datasets\\02h5\\UNet 00029 Ep480 images_infer 1\\yTrain\\0008.bmp: 384x384 11 Neurites, 11.0ms\n",
      "image 9/10 S:\\Phys\\FIV942 Adipo\\Datasets\\02h5\\UNet 00029 Ep480 images_infer 1\\yTrain\\0009.bmp: 384x384 7 Neurites, 11.0ms\n",
      "image 10/10 S:\\Phys\\FIV942 Adipo\\Datasets\\02h5\\UNet 00029 Ep480 images_infer 1\\yTrain\\0010.bmp: 384x384 13 Neurites, 11.0ms\n",
      "Speed: 1.1ms preprocess, 11.4ms inference, 134.4ms postprocess per image at shape (1, 3, 384, 384)\n"
     ]
    }
   ],
   "source": [
    "reload_path = r\"S:\\Phys\\FIV906 NeuroArbors\\02d\\YO 384 0322 MAXI\\map75=0719551 YOLOv8n-seg ml idx=13 ep=19 btch=16 rnd=4174380\\weights\\best.pt\"\n",
    "to_viz = r\"S:\\Phys\\FIV942 Adipo\\Datasets\\02h5\\UNet 00029 Ep480 images_infer 1\\yTrain\"\n",
    "to_pred = r\"S:\\Phys\\FIV942 Adipo\\FIV942P3 512 Small\"\n",
    "max_detect = 1000\n",
    "model = YOLO(reload_path)\n",
    "res_all = model.predict(to_viz, show=False, max_det = max_detect)\n",
    "res = res_all[0]\n",
    "# with open(r\"s:\\check.json\", \"w\") as text_file: text_file.write(res.tojson())\n",
    "\n",
    "#Instead, use dir(res), etc to get the segmentation regions directly."
   ]
  },
  {
   "cell_type": "code",
   "execution_count": 5,
   "metadata": {},
   "outputs": [],
   "source": [
    "# getting data for a single image\n",
    "img1_mask_coords = res_all[0].masks.xy\n",
    "img1_data = res"
   ]
  },
  {
   "cell_type": "code",
   "execution_count": 6,
   "metadata": {},
   "outputs": [],
   "source": [
    "res_all[0].show()"
   ]
  },
  {
   "cell_type": "code",
   "execution_count": 7,
   "metadata": {},
   "outputs": [],
   "source": [
    "img1_array = res_all[1].plot(labels=False, boxes=False, masks=False)\n",
    "img1 = Image.fromarray(img1_array[..., ::-1])\n",
    "img1.show()"
   ]
  },
  {
   "cell_type": "code",
   "execution_count": 8,
   "metadata": {},
   "outputs": [
    {
     "name": "stdout",
     "output_type": "stream",
     "text": [
      "Areas of the polygons: [71.10546875, 30.21484375, 5.328125, 6.21875]\n"
     ]
    }
   ],
   "source": [
    "def polygon_area(coords):\n",
    "    \"\"\"\n",
    "    Calculate the area of a polygon given its vertices using numpy.\n",
    "    :param coords: A numpy array of shape (n, 2), where n is the number of vertices.\n",
    "    :return: The area of the polygon.\n",
    "    \"\"\"\n",
    "    x = coords[:, 0]\n",
    "    y = coords[:, 1]\n",
    "    i=np.arange(len(x))\n",
    "    # 'shoelace' formula\n",
    "    # return 0.5*np.abs(np.dot(x, np.roll(y, -1)) - np.dot(y, np.roll(x, -1)))\n",
    "    return np.abs(np.sum(x[i-1]*y[i]-x[i]*y[i-1])*0.5)\n",
    "\n",
    "# Example list of numpy arrays as provided\n",
    "polygons = img1_mask_coords\n",
    "\n",
    "# Calculate the area for each polygon and store the results in a new list\n",
    "areas = [polygon_area(polygon) for polygon in polygons]\n",
    "\n",
    "print(\"Areas of the polygons:\", areas)\n",
    "\n"
   ]
  },
  {
   "cell_type": "code",
   "execution_count": 9,
   "metadata": {},
   "outputs": [
    {
     "ename": "TypeError",
     "evalue": "can't convert cuda:0 device type tensor to numpy. Use Tensor.cpu() to copy the tensor to host memory first.",
     "output_type": "error",
     "traceback": [
      "\u001b[1;31m---------------------------------------------------------------------------\u001b[0m",
      "\u001b[1;31mTypeError\u001b[0m                                 Traceback (most recent call last)",
      "Cell \u001b[1;32mIn[9], line 2\u001b[0m\n\u001b[0;32m      1\u001b[0m \u001b[38;5;66;03m# Example NumPy array and value to search for\u001b[39;00m\n\u001b[1;32m----> 2\u001b[0m img1_classes \u001b[38;5;241m=\u001b[39m \u001b[43mres_all\u001b[49m\u001b[43m[\u001b[49m\u001b[38;5;241;43m0\u001b[39;49m\u001b[43m]\u001b[49m\u001b[38;5;241;43m.\u001b[39;49m\u001b[43mboxes\u001b[49m\u001b[38;5;241;43m.\u001b[39;49m\u001b[43mcls\u001b[49m\u001b[38;5;241;43m.\u001b[39;49m\u001b[43mnumpy\u001b[49m\u001b[43m(\u001b[49m\u001b[43m)\u001b[49m\n\u001b[0;32m      3\u001b[0m value_to_find \u001b[38;5;241m=\u001b[39m \u001b[38;5;241m0\u001b[39m\n\u001b[0;32m      5\u001b[0m \u001b[38;5;66;03m# Find indices where the value matches\u001b[39;00m\n",
      "\u001b[1;31mTypeError\u001b[0m: can't convert cuda:0 device type tensor to numpy. Use Tensor.cpu() to copy the tensor to host memory first."
     ]
    }
   ],
   "source": [
    "# Example NumPy array and value to search for\n",
    "img1_classes = res_all[0].boxes.cls.numpy()\n",
    "value_to_find = 0\n",
    "\n",
    "# Find indices where the value matches\n",
    "indices = np.where(img1_classes == value_to_find)[0]\n",
    "\n",
    "print(\"indices of class 0: \", indices)"
   ]
  },
  {
   "cell_type": "code",
   "execution_count": null,
   "metadata": {},
   "outputs": [],
   "source": [
    "img1_classes[44]"
   ]
  },
  {
   "cell_type": "code",
   "execution_count": null,
   "metadata": {},
   "outputs": [],
   "source": [
    "bbox_areas = []\n",
    "for box in range(len(img1_classes)):\n",
    "    width = res_all[0].boxes[box].xywh.numpy().item(2)\n",
    "    height = res_all[0].boxes[box].xywh.numpy().item(3)\n",
    "    \n",
    "    bbox_area = width*height\n",
    "    bbox_areas.append(bbox_area)\n",
    "    \n",
    "print(len(bbox_areas))"
   ]
  },
  {
   "cell_type": "code",
   "execution_count": null,
   "metadata": {},
   "outputs": [],
   "source": [
    "polygon_and_bbox_areas = np.column_stack([areas, bbox_areas])\n",
    "with np.printoptions(threshold=np.inf,suppress=True, precision=8):\n",
    "    print(polygon_and_bbox_areas)"
   ]
  },
  {
   "cell_type": "code",
   "execution_count": null,
   "metadata": {},
   "outputs": [],
   "source": [
    "print(polygon_and_bbox_areas[44])"
   ]
  },
  {
   "cell_type": "code",
   "execution_count": null,
   "metadata": {},
   "outputs": [],
   "source": [
    "class_0_poly_bbox_pairs = polygon_and_bbox_areas[indices]\n",
    "print(polygon_and_bbox_areas[44])\n",
    "print(class_0_poly_bbox_pairs)"
   ]
  },
  {
   "cell_type": "code",
   "execution_count": 4,
   "metadata": {},
   "outputs": [
    {
     "ename": "NameError",
     "evalue": "name 'img1_mask_coords' is not defined",
     "output_type": "error",
     "traceback": [
      "\u001b[1;31m---------------------------------------------------------------------------\u001b[0m",
      "\u001b[1;31mNameError\u001b[0m                                 Traceback (most recent call last)",
      "Cell \u001b[1;32mIn[4], line 1\u001b[0m\n\u001b[1;32m----> 1\u001b[0m vertices \u001b[38;5;241m=\u001b[39m \u001b[43mimg1_mask_coords\u001b[49m[\u001b[38;5;241m2\u001b[39m]\n\u001b[0;32m      2\u001b[0m plt\u001b[38;5;241m.\u001b[39mfigure()\n\u001b[0;32m      3\u001b[0m plt\u001b[38;5;241m.\u001b[39mfill(vertices[:, \u001b[38;5;241m0\u001b[39m], vertices[:, \u001b[38;5;241m1\u001b[39m], \u001b[38;5;124m'\u001b[39m\u001b[38;5;124mb\u001b[39m\u001b[38;5;124m'\u001b[39m, edgecolor\u001b[38;5;241m=\u001b[39m\u001b[38;5;124m'\u001b[39m\u001b[38;5;124mr\u001b[39m\u001b[38;5;124m'\u001b[39m)  \u001b[38;5;66;03m# Fill blue, edge red\u001b[39;00m\n",
      "\u001b[1;31mNameError\u001b[0m: name 'img1_mask_coords' is not defined"
     ]
    }
   ],
   "source": [
    "vertices = img1_mask_coords[2]\n",
    "plt.figure()\n",
    "plt.fill(vertices[:, 0], vertices[:, 1], 'b', edgecolor='r')  # Fill blue, edge red\n",
    "plt.xlim(min(vertices[:, 0]) - 1, max(vertices[:, 0]) + 1)\n",
    "plt.ylim(min(vertices[:, 1]) - 1, max(vertices[:, 1]) + 1)\n",
    "plt.gca().set_aspect('equal', adjustable='box')\n",
    "plt.title('Polygon Visualization')\n",
    "plt.xlabel('X Coordinate')\n",
    "plt.ylabel('Y Coordinate')\n",
    "plt.show()"
   ]
  },
  {
   "cell_type": "code",
   "execution_count": null,
   "metadata": {},
   "outputs": [],
   "source": [
    "img1_mask_coords[0][:,0]"
   ]
  },
  {
   "cell_type": "code",
   "execution_count": null,
   "metadata": {},
   "outputs": [],
   "source": [
    "print(polygons[0])"
   ]
  },
  {
   "cell_type": "markdown",
   "metadata": {},
   "source": [
    "<h3>Getting pixel intensities (should check)</h3>"
   ]
  },
  {
   "cell_type": "code",
   "execution_count": null,
   "metadata": {},
   "outputs": [],
   "source": [
    "image_path = r\"S:\\Phys\\FIV942 Adipo\\Adipo2Viz 512\\001597.bmp\"\n",
    "image = Image.open(image_path)\n",
    "image_array = np.array(image)\n",
    "\n",
    "pixel_intensity_data = []\n",
    "for mask_outline in range(len(img1_mask_coords)):\n",
    "    vertices = img1_mask_coords[mask_outline]\n",
    "\n",
    "    # Assuming image_array is a 2D numpy array for a grayscale image\n",
    "    # For a color image, you need to decide how to handle the color channels\n",
    "\n",
    "    # Create a mesh grid of coordinate values\n",
    "    xx, yy = np.meshgrid(np.arange(image_array.shape[1]), np.arange(image_array.shape[0]))\n",
    "\n",
    "    # Flatten the grid arrays\n",
    "    x_flat = xx.flatten()\n",
    "    y_flat = yy.flatten()\n",
    "\n",
    "    # Create a list of (x, y) points from the flattened grid\n",
    "    points = np.vstack((x_flat, y_flat)).T\n",
    "\n",
    "    # Create a path object from the vertices\n",
    "    polygon_path = mpltPath.Path(vertices)\n",
    "\n",
    "    # Use the path object to create a mask\n",
    "    inside_polygon = polygon_path.contains_points(points)\n",
    "\n",
    "    # Reshape the mask back to the image shape\n",
    "    mask = inside_polygon.reshape(xx.shape)\n",
    "\n",
    "    # Apply the mask to select pixels within the polygon\n",
    "    # selected_pixels = image_array[mask]\n",
    "\n",
    "    # Sum the intensities of the selected pixels\n",
    "    # sum_of_intensities = np.sum(selected_pixels)\n",
    "\n",
    "    # print(\"Sum of pixel intensities in the polygonal region:\", sum_of_intensities)\n",
    "    # Initialize an array to hold the sum of intensities for each channel\n",
    "    sum_of_intensities_per_channel = np.zeros(image_array.shape[2])\n",
    "\n",
    "    # Iterate over each channel\n",
    "    for i in range(image_array.shape[2]):\n",
    "        # Apply the mask to the current channel and sum the intensities\n",
    "        selected_pixels = image_array[:, :, i][mask]\n",
    "        sum_of_intensities_per_channel[i] = np.sum(selected_pixels)\n",
    "\n",
    "    print(\"Sum of pixel intensities in the polygonal region for each channel:\", sum_of_intensities_per_channel)\n",
    "    pixel_intensity_data.append(sum_of_intensities_per_channel)"
   ]
  },
  {
   "cell_type": "markdown",
   "metadata": {},
   "source": [
    "<h3>Putting areas of polygons and pixel intensities in spreadsheet (csv)</h3>"
   ]
  },
  {
   "cell_type": "code",
   "execution_count": null,
   "metadata": {},
   "outputs": [],
   "source": [
    "header = [\"FilePath\", \"PolyID\",\"cls\",\"Vertices\",\"PolyArea\",\"Sum Inten WV0\",\"SumInten WV1\", \"SumInten WV2\",\"BBox x\",\"BBox y\",\"BBox w\",\"BBox h\"]\n",
    "data = []\n",
    "\n",
    "for i in range(len(polygons)):\n",
    "    if img1_mask_coords[i].size == 0:\n",
    "        continue\n",
    "    else:\n",
    "        polygon_data = [image_path,i,res_all[0].boxes[i].cls.numpy().item(0),polygons[i],areas[i],pixel_intensity_data[i][0],pixel_intensity_data[i][1],pixel_intensity_data[i][2]\n",
    "                        , res_all[0].boxes[i].xywh.numpy().item(0), res_all[0].boxes[i].xywh.numpy().item(1), res_all[0].boxes[i].xywh.numpy().item(2), res_all[0].boxes[i].xywh.numpy().item(3)]\n",
    "        data.append(polygon_data)\n",
    "    \n",
    "\n",
    "filename = 'polygon_image_data.csv'\n",
    "with open(filename, 'w', newline=\"\") as file:\n",
    "    csvwriter = csv.writer(file)\n",
    "    csvwriter.writerow(header)\n",
    "    csvwriter.writerows(data)"
   ]
  },
  {
   "cell_type": "markdown",
   "metadata": {},
   "source": [
    "<h2>Understanding variables (print(), type(), dir(), etc.)</h2>"
   ]
  },
  {
   "cell_type": "code",
   "execution_count": null,
   "metadata": {},
   "outputs": [],
   "source": [
    "sum_of_intensities_per_channel[0]"
   ]
  },
  {
   "cell_type": "code",
   "execution_count": null,
   "metadata": {},
   "outputs": [],
   "source": [
    "print(res_all[5].boxes[0].orig_shape)"
   ]
  },
  {
   "cell_type": "code",
   "execution_count": null,
   "metadata": {},
   "outputs": [],
   "source": [
    "img1_mask_coords[0]"
   ]
  },
  {
   "cell_type": "code",
   "execution_count": null,
   "metadata": {},
   "outputs": [],
   "source": [
    "print(img1_data.names)"
   ]
  }
 ],
 "metadata": {
  "kernelspec": {
   "display_name": "myenv4",
   "language": "python",
   "name": "python3"
  },
  "language_info": {
   "codemirror_mode": {
    "name": "ipython",
    "version": 3
   },
   "file_extension": ".py",
   "mimetype": "text/x-python",
   "name": "python",
   "nbconvert_exporter": "python",
   "pygments_lexer": "ipython3",
   "version": "3.9.19"
  }
 },
 "nbformat": 4,
 "nbformat_minor": 2
}
