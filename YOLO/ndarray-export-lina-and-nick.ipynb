{
 "cells": [
  {
   "cell_type": "code",
   "execution_count": null,
   "metadata": {},
   "outputs": [],
   "source": [
    "# get voronoi boundaries\n",
    "\n",
    "# get numpy array of image\n",
    "#   - get centers of nuclei in numpy array\n",
    "#   - prediction.boxes.xywh.numpy()\n",
    "#       - export to csv\n",
    "#           - how do you export to csv?\n"
   ]
  },
  {
   "cell_type": "code",
   "execution_count": 1,
   "metadata": {},
   "outputs": [
    {
     "name": "stdout",
     "output_type": "stream",
     "text": [
      "torchvision:  0.17.2\n",
      "CUDA available: True\n"
     ]
    }
   ],
   "source": [
    "import os\n",
    "os.environ['PYTORCH_CUDA_ALLOC_CONF'] = 'expandable_segments:True'\n",
    "import torch\n",
    "from ultralytics import YOLO\n",
    "from PIL import Image, ImageDraw\n",
    "import numpy as np\n",
    "import pandas as pd\n",
    "from IPython.display import clear_output\n",
    "import socket\n",
    "import time\n",
    "from datetime import datetime\n",
    "import shutil\n",
    "from random import randint\n",
    "import re\n",
    "import imagecodecs\n",
    "import tifffile\n",
    "import tensorflow as tf\n",
    "from scipy.spatial import Voronoi, cKDTree\n",
    "from matplotlib.path import Path\n",
    "from rtree import index\n",
    "from ctypes.wintypes import INT\n",
    "import time\n",
    "import matplotlib.pyplot as plt\n",
    "from shapely.geometry import Polygon, Point\n",
    "import torch, torchvision\n",
    "import colorsys\n",
    "\n",
    "print(\"torchvision: \", torchvision.__version__)\n",
    "print('CUDA available:', torch.cuda.is_available())"
   ]
  },
  {
   "cell_type": "code",
   "execution_count": 2,
   "metadata": {},
   "outputs": [],
   "source": [
    "# is this a segmentation model\n",
    "yolo_model_path = r\"S:\\Phys\\FIV925 XSection\\Datasets\\Axons vs SCs\\01i5\\YO 384 0530 MAXI\\map75=0855192 YOLOv8n-seg map75=081193 idx=4 ep=24 btch=32 rnd=2840511\\weights\\best.pt\"\n",
    "\n",
    "model = YOLO(yolo_model_path)"
   ]
  },
  {
   "cell_type": "code",
   "execution_count": 3,
   "metadata": {},
   "outputs": [],
   "source": [
    "def get_color_by_id(point_region_id, total_ids):\n",
    "    hue = point_region_id / total_ids # Scale the hue by the number of unique IDs, wrapping around the hue circle\n",
    "    saturation = 0.9; value = 0.9  # Keep saturation and value high for bright colors\n",
    "    rgb = colorsys.hsv_to_rgb(hue, saturation, value)\n",
    "    r, g, b = (int(c * 255) for c in rgb)  # Convert to 0-255 scale for RGB colors\n",
    "    return (r << 16) | (g << 8) | b  # Combine into a single integer\n",
    "\n",
    "def draw_polygons(draw, polygons):\n",
    "    for i, polygon in enumerate(polygons):\n",
    "        if len(polygon) < 2:\n",
    "            continue\n",
    "        # color = get_color_by_id(i, len(polygons))\n",
    "        draw.polygon(polygon, fill=i, outline='white')\n",
    "    \n",
    "    "
   ]
  },
  {
   "cell_type": "code",
   "execution_count": null,
   "metadata": {},
   "outputs": [],
   "source": [
    "tile_size = 384\n",
    "iteration = 0\n",
    "scale_factor = 1\n",
    "dataset = \"Human Lung Cancer\"\n",
    "base_path = r\"R:\\FIVE\\EXP\\FIV925\\Additional Datasets\"\n",
    "ome_tiff_path = f\"{base_path}\\\\{dataset}\\\\morphology_mip.ome.tif\"\n",
    "\n",
    "with tifffile.TiffFile(ome_tiff_path) as tif:\n",
    "    image = tif.asarray()\n",
    "    # image_dapi = image[2,:, :] # DAPI channel\n",
    "    image_data = image[::2, ::2] # downsample by half\n",
    "\n",
    "    # normalize to 8 bit\n",
    "    max_val_16bit = np.max(image_data)\n",
    "    image_scaled = (image_data / max_val_16bit) * 255\n",
    "    image_8bit = image_scaled.astype(np.uint8)\n",
    "\n",
    "    # create image and resize\n",
    "    og_image = Image.fromarray(image_8bit, 'L')\n",
    "    new_width = int(og_image.width * scale_factor); new_height = int(og_image.height * scale_factor)\n",
    "    image_resized = og_image.resize((new_width, new_height), Image.LANCZOS)\n",
    "    image = np.array(image_resized)\n",
    "\n",
    "    image_height, image_width = image_resized.size\n",
    "\n",
    "    big_array = np.zeros((image_resized.height + 384, image_resized.width + 384))\n",
    "    list_xywh = []\n",
    "\n",
    "    # as we're making predictions, we want a big array that's meant to 'contain' the whole image\n",
    "    #   then insert the predictions into that big array\n",
    "    # so here is where we go through the image as tiles and make the predictions\n",
    "    tile_id = 0\n",
    "    for i in range(0, image_height, 384): # section_miny, section_maxy\n",
    "        for j in range(0, image_width, 384): # section_minx, section_maxx\n",
    "            iteration += 1\n",
    "            tile = image[i:i+tile_size, j:j+tile_size]\n",
    "            \n",
    "            tile_id += 1\n",
    "            \n",
    "            if tile.shape[0] == 0 or tile.shape[1] == 0:\n",
    "                continue  # Skip tiles that have no width or height\n",
    "            tile_as_img = Image.fromarray(tile, 'L')\n",
    "            predictions = model.predict(tile_as_img, show=False, max_det=3000)\n",
    "            \n",
    "            result = predictions[0]\n",
    "            # draw masks onto blank image\n",
    "            if result.masks is not None:\n",
    "                polygons = result.masks.xy\n",
    "            else:\n",
    "                continue\n",
    "            draw_tile = ImageDraw.Draw(tile_as_img)\n",
    "            draw_polygons(draw_tile, polygons)\n",
    "            image_array = np.array(tile_as_img)\n",
    "            image_array[image_array != 0] += tile_id\n",
    "            \n",
    "            tile_id += len(polygons)\n",
    "\n",
    "            # tile = np.array(tile_as_img)\n",
    "            big_array[i:i+tile.shape[0], j:j+tile.shape[1]] = image_array\n",
    "            \n",
    "            print(\"iteration: \", iteration)\n",
    "            \n",
    "# Save the array with a header and formatted floating-point numbers\n",
    "# np.savetxt(r\"R:\\FIVE\\EXP\\FIV925\\Additional Datasets\\Human Lung Cancer\\array.csv\", big_array, delimiter=\",\", fmt='%.2f')    "
   ]
  },
  {
   "cell_type": "code",
   "execution_count": null,
   "metadata": {},
   "outputs": [],
   "source": [
    "from skimage.measure import label \n",
    "\n",
    "big_array_unique = big_array \n",
    "\n",
    "labeled_array = label(big_array_unique, connectivity=1)"
   ]
  },
  {
   "cell_type": "code",
   "execution_count": null,
   "metadata": {},
   "outputs": [],
   "source": [
    "np.savetxt(r\"R:\\FIVE\\EXP\\FIV925\\Additional Datasets\\Human Lung Cancer\\array.csv\", big_array, delimiter=\",\", fmt='%.2f')  "
   ]
  }
 ],
 "metadata": {
  "kernelspec": {
   "display_name": "torch01",
   "language": "python",
   "name": "python3"
  },
  "language_info": {
   "codemirror_mode": {
    "name": "ipython",
    "version": 3
   },
   "file_extension": ".py",
   "mimetype": "text/x-python",
   "name": "python",
   "nbconvert_exporter": "python",
   "pygments_lexer": "ipython3",
   "version": "3.9.19"
  }
 },
 "nbformat": 4,
 "nbformat_minor": 2
}
