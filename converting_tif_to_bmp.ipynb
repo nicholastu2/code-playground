{
 "cells": [
  {
   "cell_type": "markdown",
   "metadata": {},
   "source": [
    "# Pseudocode"
   ]
  },
  {
   "cell_type": "code",
   "execution_count": null,
   "metadata": {},
   "outputs": [],
   "source": [
    "def convert_tif_to_bmp(file):\n",
    "    return btf_file\n",
    "\n",
    "path1 = r\"S:\\Phys\\FIV925 XSection\\Datasets\\SpinalAtlas\\Dodd and Fiederling\\Cropped\\2_Inverted_Slides\\I2\"\n",
    "path2 = r\"S:\\Phys\\FIV925 XSection\\Datasets\\SpinalAtlas\\Dodd and Fiederling\\Cropped\\8_Inverted_Slides\\I8\"\n",
    "\n",
    "list_of_paths = [path1, path2]\n",
    "\n",
    "for path in list_of_paths:\n",
    "    for file in path:\n",
    "        convert_tif_to_bmp(file)\n",
    "    "
   ]
  },
  {
   "cell_type": "markdown",
   "metadata": {},
   "source": [
    "# ChatGPT code"
   ]
  },
  {
   "cell_type": "markdown",
   "metadata": {},
   "source": [
    "## First attempt"
   ]
  },
  {
   "cell_type": "code",
   "execution_count": 2,
   "metadata": {},
   "outputs": [
    {
     "ename": "OSError",
     "evalue": "cannot write mode I;16B as BMP",
     "output_type": "error",
     "traceback": [
      "\u001b[1;31m---------------------------------------------------------------------------\u001b[0m",
      "\u001b[1;31mKeyError\u001b[0m                                  Traceback (most recent call last)",
      "File \u001b[1;32mc:\\Users\\FIVE\\anaconda3\\envs\\torch01\\lib\\site-packages\\PIL\\BmpImagePlugin.py:389\u001b[0m, in \u001b[0;36m_save\u001b[1;34m(im, fp, filename, bitmap_header)\u001b[0m\n\u001b[0;32m    388\u001b[0m \u001b[38;5;28;01mtry\u001b[39;00m:\n\u001b[1;32m--> 389\u001b[0m     rawmode, bits, colors \u001b[38;5;241m=\u001b[39m \u001b[43mSAVE\u001b[49m\u001b[43m[\u001b[49m\u001b[43mim\u001b[49m\u001b[38;5;241;43m.\u001b[39;49m\u001b[43mmode\u001b[49m\u001b[43m]\u001b[49m\n\u001b[0;32m    390\u001b[0m \u001b[38;5;28;01mexcept\u001b[39;00m \u001b[38;5;167;01mKeyError\u001b[39;00m \u001b[38;5;28;01mas\u001b[39;00m e:\n",
      "\u001b[1;31mKeyError\u001b[0m: 'I;16B'",
      "\nThe above exception was the direct cause of the following exception:\n",
      "\u001b[1;31mOSError\u001b[0m                                   Traceback (most recent call last)",
      "Cell \u001b[1;32mIn[2], line 23\u001b[0m\n\u001b[0;32m     21\u001b[0m \u001b[38;5;28;01mif\u001b[39;00m file\u001b[38;5;241m.\u001b[39mendswith(\u001b[38;5;124m'\u001b[39m\u001b[38;5;124m.tif\u001b[39m\u001b[38;5;124m'\u001b[39m):\n\u001b[0;32m     22\u001b[0m     full_path \u001b[38;5;241m=\u001b[39m os\u001b[38;5;241m.\u001b[39mpath\u001b[38;5;241m.\u001b[39mjoin(path, file)\n\u001b[1;32m---> 23\u001b[0m     \u001b[43mconvert_tif_to_bmp\u001b[49m\u001b[43m(\u001b[49m\u001b[43mfull_path\u001b[49m\u001b[43m)\u001b[49m\n\u001b[0;32m     24\u001b[0m     \u001b[38;5;28mprint\u001b[39m(\u001b[38;5;124mf\u001b[39m\u001b[38;5;124m\"\u001b[39m\u001b[38;5;124mConverted \u001b[39m\u001b[38;5;132;01m{\u001b[39;00mfull_path\u001b[38;5;132;01m}\u001b[39;00m\u001b[38;5;124m to BMP\u001b[39m\u001b[38;5;124m\"\u001b[39m)\n",
      "Cell \u001b[1;32mIn[2], line 9\u001b[0m, in \u001b[0;36mconvert_tif_to_bmp\u001b[1;34m(file)\u001b[0m\n\u001b[0;32m      6\u001b[0m \u001b[38;5;28;01mwith\u001b[39;00m Image\u001b[38;5;241m.\u001b[39mopen(file) \u001b[38;5;28;01mas\u001b[39;00m img:\n\u001b[0;32m      7\u001b[0m     \u001b[38;5;66;03m# Convert the image to BMP format\u001b[39;00m\n\u001b[0;32m      8\u001b[0m     bmp_file \u001b[38;5;241m=\u001b[39m file\u001b[38;5;241m.\u001b[39mreplace(\u001b[38;5;124m'\u001b[39m\u001b[38;5;124m.tif\u001b[39m\u001b[38;5;124m'\u001b[39m, \u001b[38;5;124m'\u001b[39m\u001b[38;5;124m.bmp\u001b[39m\u001b[38;5;124m'\u001b[39m)\n\u001b[1;32m----> 9\u001b[0m     \u001b[43mimg\u001b[49m\u001b[38;5;241;43m.\u001b[39;49m\u001b[43msave\u001b[49m\u001b[43m(\u001b[49m\u001b[43mbmp_file\u001b[49m\u001b[43m,\u001b[49m\u001b[43m \u001b[49m\u001b[38;5;28;43mformat\u001b[39;49m\u001b[38;5;241;43m=\u001b[39;49m\u001b[38;5;124;43m'\u001b[39;49m\u001b[38;5;124;43mBMP\u001b[39;49m\u001b[38;5;124;43m'\u001b[39;49m\u001b[43m)\u001b[49m\n\u001b[0;32m     10\u001b[0m \u001b[38;5;28;01mreturn\u001b[39;00m bmp_file\n",
      "File \u001b[1;32mc:\\Users\\FIVE\\anaconda3\\envs\\torch01\\lib\\site-packages\\PIL\\Image.py:2439\u001b[0m, in \u001b[0;36mImage.save\u001b[1;34m(self, fp, format, **params)\u001b[0m\n\u001b[0;32m   2436\u001b[0m         fp \u001b[38;5;241m=\u001b[39m builtins\u001b[38;5;241m.\u001b[39mopen(filename, \u001b[38;5;124m\"\u001b[39m\u001b[38;5;124mw+b\u001b[39m\u001b[38;5;124m\"\u001b[39m)\n\u001b[0;32m   2438\u001b[0m \u001b[38;5;28;01mtry\u001b[39;00m:\n\u001b[1;32m-> 2439\u001b[0m     \u001b[43msave_handler\u001b[49m\u001b[43m(\u001b[49m\u001b[38;5;28;43mself\u001b[39;49m\u001b[43m,\u001b[49m\u001b[43m \u001b[49m\u001b[43mfp\u001b[49m\u001b[43m,\u001b[49m\u001b[43m \u001b[49m\u001b[43mfilename\u001b[49m\u001b[43m)\u001b[49m\n\u001b[0;32m   2440\u001b[0m \u001b[38;5;28;01mexcept\u001b[39;00m \u001b[38;5;167;01mException\u001b[39;00m:\n\u001b[0;32m   2441\u001b[0m     \u001b[38;5;28;01mif\u001b[39;00m open_fp:\n",
      "File \u001b[1;32mc:\\Users\\FIVE\\anaconda3\\envs\\torch01\\lib\\site-packages\\PIL\\BmpImagePlugin.py:392\u001b[0m, in \u001b[0;36m_save\u001b[1;34m(im, fp, filename, bitmap_header)\u001b[0m\n\u001b[0;32m    390\u001b[0m \u001b[38;5;28;01mexcept\u001b[39;00m \u001b[38;5;167;01mKeyError\u001b[39;00m \u001b[38;5;28;01mas\u001b[39;00m e:\n\u001b[0;32m    391\u001b[0m     msg \u001b[38;5;241m=\u001b[39m \u001b[38;5;124mf\u001b[39m\u001b[38;5;124m\"\u001b[39m\u001b[38;5;124mcannot write mode \u001b[39m\u001b[38;5;132;01m{\u001b[39;00mim\u001b[38;5;241m.\u001b[39mmode\u001b[38;5;132;01m}\u001b[39;00m\u001b[38;5;124m as BMP\u001b[39m\u001b[38;5;124m\"\u001b[39m\n\u001b[1;32m--> 392\u001b[0m     \u001b[38;5;28;01mraise\u001b[39;00m \u001b[38;5;167;01mOSError\u001b[39;00m(msg) \u001b[38;5;28;01mfrom\u001b[39;00m \u001b[38;5;21;01me\u001b[39;00m\n\u001b[0;32m    394\u001b[0m info \u001b[38;5;241m=\u001b[39m im\u001b[38;5;241m.\u001b[39mencoderinfo\n\u001b[0;32m    396\u001b[0m dpi \u001b[38;5;241m=\u001b[39m info\u001b[38;5;241m.\u001b[39mget(\u001b[38;5;124m\"\u001b[39m\u001b[38;5;124mdpi\u001b[39m\u001b[38;5;124m\"\u001b[39m, (\u001b[38;5;241m96\u001b[39m, \u001b[38;5;241m96\u001b[39m))\n",
      "\u001b[1;31mOSError\u001b[0m: cannot write mode I;16B as BMP"
     ]
    }
   ],
   "source": [
    "import os\n",
    "from PIL import Image\n",
    "\n",
    "def convert_tif_to_bmp(file):\n",
    "    # Open the TIFF image\n",
    "    with Image.open(file) as img:\n",
    "        # Convert the image to BMP format\n",
    "        bmp_file = file.replace('.tif', '.bmp')\n",
    "        img.save(bmp_file, format='BMP')\n",
    "    return bmp_file\n",
    "\n",
    "path1 = r\"S:\\Phys\\FIV925 XSection\\Datasets\\SpinalAtlas\\Dodd and Fiederling\\Cropped\\2_Inverted_Slides\\I2\"\n",
    "path2 = r\"S:\\Phys\\FIV925 XSection\\Datasets\\SpinalAtlas\\Dodd and Fiederling\\Cropped\\8_Inverted_Slides\\I8\"\n",
    "\n",
    "list_of_paths = [path1, path2]\n",
    "\n",
    "for path in list_of_paths:\n",
    "    # List all files in the directory\n",
    "    for file in os.listdir(path):\n",
    "        # Check if the file is a TIFF file\n",
    "        if file.endswith('.tif'):\n",
    "            full_path = os.path.join(path, file)\n",
    "            convert_tif_to_bmp(full_path)\n",
    "            print(f\"Converted {full_path} to BMP\")\n"
   ]
  },
  {
   "cell_type": "markdown",
   "metadata": {},
   "source": [
    "## Second attempt"
   ]
  },
  {
   "cell_type": "code",
   "execution_count": 3,
   "metadata": {},
   "outputs": [
    {
     "name": "stdout",
     "output_type": "stream",
     "text": [
      "Converted S:\\Phys\\FIV925 XSection\\Datasets\\SpinalAtlas\\Dodd and Fiederling\\Cropped\\2_Inverted_Slides\\I2\\C1-Slide1-6_Region0007_Channel555 nm,475 nm,395 nm_Seq0051.tif to BMP\n",
      "Converted S:\\Phys\\FIV925 XSection\\Datasets\\SpinalAtlas\\Dodd and Fiederling\\Cropped\\2_Inverted_Slides\\I2\\C2-Slide1-6_Region0007_Channel555 nm,475 nm,395 nm_Seq0051.tif to BMP\n",
      "Converted S:\\Phys\\FIV925 XSection\\Datasets\\SpinalAtlas\\Dodd and Fiederling\\Cropped\\2_Inverted_Slides\\I2\\C3-Slide1-6_Region0007_Channel555 nm,475 nm,395 nm_Seq0051.tif to BMP\n",
      "Converted S:\\Phys\\FIV925 XSection\\Datasets\\SpinalAtlas\\Dodd and Fiederling\\Cropped\\8_Inverted_Slides\\I8\\C1-Slide1-6_Region0007_Channel555 nm,475 nm,395 nm_Seq0051.tif to BMP\n",
      "Converted S:\\Phys\\FIV925 XSection\\Datasets\\SpinalAtlas\\Dodd and Fiederling\\Cropped\\8_Inverted_Slides\\I8\\C2-Slide1-6_Region0007_Channel555 nm,475 nm,395 nm_Seq0051.tif to BMP\n"
     ]
    },
    {
     "ename": "OSError",
     "evalue": "cannot write mode I;16 as BMP",
     "output_type": "error",
     "traceback": [
      "\u001b[1;31m---------------------------------------------------------------------------\u001b[0m",
      "\u001b[1;31mKeyError\u001b[0m                                  Traceback (most recent call last)",
      "File \u001b[1;32mc:\\Users\\FIVE\\anaconda3\\envs\\torch01\\lib\\site-packages\\PIL\\BmpImagePlugin.py:389\u001b[0m, in \u001b[0;36m_save\u001b[1;34m(im, fp, filename, bitmap_header)\u001b[0m\n\u001b[0;32m    388\u001b[0m \u001b[38;5;28;01mtry\u001b[39;00m:\n\u001b[1;32m--> 389\u001b[0m     rawmode, bits, colors \u001b[38;5;241m=\u001b[39m \u001b[43mSAVE\u001b[49m\u001b[43m[\u001b[49m\u001b[43mim\u001b[49m\u001b[38;5;241;43m.\u001b[39;49m\u001b[43mmode\u001b[49m\u001b[43m]\u001b[49m\n\u001b[0;32m    390\u001b[0m \u001b[38;5;28;01mexcept\u001b[39;00m \u001b[38;5;167;01mKeyError\u001b[39;00m \u001b[38;5;28;01mas\u001b[39;00m e:\n",
      "\u001b[1;31mKeyError\u001b[0m: 'I;16'",
      "\nThe above exception was the direct cause of the following exception:\n",
      "\u001b[1;31mOSError\u001b[0m                                   Traceback (most recent call last)",
      "Cell \u001b[1;32mIn[3], line 25\u001b[0m\n\u001b[0;32m     23\u001b[0m \u001b[38;5;28;01mif\u001b[39;00m file\u001b[38;5;241m.\u001b[39mendswith(\u001b[38;5;124m'\u001b[39m\u001b[38;5;124m.tif\u001b[39m\u001b[38;5;124m'\u001b[39m):\n\u001b[0;32m     24\u001b[0m     full_path \u001b[38;5;241m=\u001b[39m os\u001b[38;5;241m.\u001b[39mpath\u001b[38;5;241m.\u001b[39mjoin(path, file)\n\u001b[1;32m---> 25\u001b[0m     \u001b[43mconvert_tif_to_bmp\u001b[49m\u001b[43m(\u001b[49m\u001b[43mfull_path\u001b[49m\u001b[43m)\u001b[49m\n\u001b[0;32m     26\u001b[0m     \u001b[38;5;28mprint\u001b[39m(\u001b[38;5;124mf\u001b[39m\u001b[38;5;124m\"\u001b[39m\u001b[38;5;124mConverted \u001b[39m\u001b[38;5;132;01m{\u001b[39;00mfull_path\u001b[38;5;132;01m}\u001b[39;00m\u001b[38;5;124m to BMP\u001b[39m\u001b[38;5;124m\"\u001b[39m)\n",
      "Cell \u001b[1;32mIn[3], line 11\u001b[0m, in \u001b[0;36mconvert_tif_to_bmp\u001b[1;34m(file)\u001b[0m\n\u001b[0;32m      9\u001b[0m         img \u001b[38;5;241m=\u001b[39m img\u001b[38;5;241m.\u001b[39mconvert(\u001b[38;5;124m'\u001b[39m\u001b[38;5;124mL\u001b[39m\u001b[38;5;124m'\u001b[39m)  \u001b[38;5;66;03m# Convert to 8-bit grayscale\u001b[39;00m\n\u001b[0;32m     10\u001b[0m     bmp_file \u001b[38;5;241m=\u001b[39m file\u001b[38;5;241m.\u001b[39mreplace(\u001b[38;5;124m'\u001b[39m\u001b[38;5;124m.tif\u001b[39m\u001b[38;5;124m'\u001b[39m, \u001b[38;5;124m'\u001b[39m\u001b[38;5;124m.bmp\u001b[39m\u001b[38;5;124m'\u001b[39m)\n\u001b[1;32m---> 11\u001b[0m     \u001b[43mimg\u001b[49m\u001b[38;5;241;43m.\u001b[39;49m\u001b[43msave\u001b[49m\u001b[43m(\u001b[49m\u001b[43mbmp_file\u001b[49m\u001b[43m,\u001b[49m\u001b[43m \u001b[49m\u001b[38;5;28;43mformat\u001b[39;49m\u001b[38;5;241;43m=\u001b[39;49m\u001b[38;5;124;43m'\u001b[39;49m\u001b[38;5;124;43mBMP\u001b[39;49m\u001b[38;5;124;43m'\u001b[39;49m\u001b[43m)\u001b[49m\n\u001b[0;32m     12\u001b[0m \u001b[38;5;28;01mreturn\u001b[39;00m bmp_file\n",
      "File \u001b[1;32mc:\\Users\\FIVE\\anaconda3\\envs\\torch01\\lib\\site-packages\\PIL\\Image.py:2439\u001b[0m, in \u001b[0;36mImage.save\u001b[1;34m(self, fp, format, **params)\u001b[0m\n\u001b[0;32m   2436\u001b[0m         fp \u001b[38;5;241m=\u001b[39m builtins\u001b[38;5;241m.\u001b[39mopen(filename, \u001b[38;5;124m\"\u001b[39m\u001b[38;5;124mw+b\u001b[39m\u001b[38;5;124m\"\u001b[39m)\n\u001b[0;32m   2438\u001b[0m \u001b[38;5;28;01mtry\u001b[39;00m:\n\u001b[1;32m-> 2439\u001b[0m     \u001b[43msave_handler\u001b[49m\u001b[43m(\u001b[49m\u001b[38;5;28;43mself\u001b[39;49m\u001b[43m,\u001b[49m\u001b[43m \u001b[49m\u001b[43mfp\u001b[49m\u001b[43m,\u001b[49m\u001b[43m \u001b[49m\u001b[43mfilename\u001b[49m\u001b[43m)\u001b[49m\n\u001b[0;32m   2440\u001b[0m \u001b[38;5;28;01mexcept\u001b[39;00m \u001b[38;5;167;01mException\u001b[39;00m:\n\u001b[0;32m   2441\u001b[0m     \u001b[38;5;28;01mif\u001b[39;00m open_fp:\n",
      "File \u001b[1;32mc:\\Users\\FIVE\\anaconda3\\envs\\torch01\\lib\\site-packages\\PIL\\BmpImagePlugin.py:392\u001b[0m, in \u001b[0;36m_save\u001b[1;34m(im, fp, filename, bitmap_header)\u001b[0m\n\u001b[0;32m    390\u001b[0m \u001b[38;5;28;01mexcept\u001b[39;00m \u001b[38;5;167;01mKeyError\u001b[39;00m \u001b[38;5;28;01mas\u001b[39;00m e:\n\u001b[0;32m    391\u001b[0m     msg \u001b[38;5;241m=\u001b[39m \u001b[38;5;124mf\u001b[39m\u001b[38;5;124m\"\u001b[39m\u001b[38;5;124mcannot write mode \u001b[39m\u001b[38;5;132;01m{\u001b[39;00mim\u001b[38;5;241m.\u001b[39mmode\u001b[38;5;132;01m}\u001b[39;00m\u001b[38;5;124m as BMP\u001b[39m\u001b[38;5;124m\"\u001b[39m\n\u001b[1;32m--> 392\u001b[0m     \u001b[38;5;28;01mraise\u001b[39;00m \u001b[38;5;167;01mOSError\u001b[39;00m(msg) \u001b[38;5;28;01mfrom\u001b[39;00m \u001b[38;5;21;01me\u001b[39;00m\n\u001b[0;32m    394\u001b[0m info \u001b[38;5;241m=\u001b[39m im\u001b[38;5;241m.\u001b[39mencoderinfo\n\u001b[0;32m    396\u001b[0m dpi \u001b[38;5;241m=\u001b[39m info\u001b[38;5;241m.\u001b[39mget(\u001b[38;5;124m\"\u001b[39m\u001b[38;5;124mdpi\u001b[39m\u001b[38;5;124m\"\u001b[39m, (\u001b[38;5;241m96\u001b[39m, \u001b[38;5;241m96\u001b[39m))\n",
      "\u001b[1;31mOSError\u001b[0m: cannot write mode I;16 as BMP"
     ]
    }
   ],
   "source": [
    "import os\n",
    "from PIL import Image\n",
    "\n",
    "def convert_tif_to_bmp(file):\n",
    "    # Open the TIFF image\n",
    "    with Image.open(file) as img:\n",
    "        # Check the image mode and convert if necessary\n",
    "        if img.mode == 'I;16B':\n",
    "            img = img.convert('L')  # Convert to 8-bit grayscale\n",
    "        bmp_file = file.replace('.tif', '.bmp')\n",
    "        img.save(bmp_file, format='BMP')\n",
    "    return bmp_file\n",
    "\n",
    "path1 = r\"S:\\Phys\\FIV925 XSection\\Datasets\\SpinalAtlas\\Dodd and Fiederling\\Cropped\\2_Inverted_Slides\\I2\"\n",
    "path2 = r\"S:\\Phys\\FIV925 XSection\\Datasets\\SpinalAtlas\\Dodd and Fiederling\\Cropped\\8_Inverted_Slides\\I8\"\n",
    "\n",
    "list_of_paths = [path1, path2]\n",
    "\n",
    "for path in list_of_paths:\n",
    "    # List all files in the directory\n",
    "    for file in os.listdir(path):\n",
    "        # Check if the file is a TIFF file\n",
    "        if file.endswith('.tif'):\n",
    "            full_path = os.path.join(path, file)\n",
    "            convert_tif_to_bmp(full_path)\n",
    "            print(f\"Converted {full_path} to BMP\")"
   ]
  },
  {
   "cell_type": "markdown",
   "metadata": {},
   "source": [
    "## Third attempt"
   ]
  },
  {
   "cell_type": "code",
   "execution_count": 4,
   "metadata": {},
   "outputs": [
    {
     "name": "stdout",
     "output_type": "stream",
     "text": [
      "Converted S:\\Phys\\FIV925 XSection\\Datasets\\SpinalAtlas\\Dodd and Fiederling\\Cropped\\2_Inverted_Slides\\I2\\C1-Slide1-6_Region0007_Channel555 nm,475 nm,395 nm_Seq0051.tif to BMP\n",
      "Converted S:\\Phys\\FIV925 XSection\\Datasets\\SpinalAtlas\\Dodd and Fiederling\\Cropped\\2_Inverted_Slides\\I2\\C2-Slide1-6_Region0007_Channel555 nm,475 nm,395 nm_Seq0051.tif to BMP\n",
      "Converted S:\\Phys\\FIV925 XSection\\Datasets\\SpinalAtlas\\Dodd and Fiederling\\Cropped\\2_Inverted_Slides\\I2\\C3-Slide1-6_Region0007_Channel555 nm,475 nm,395 nm_Seq0051.tif to BMP\n",
      "Converted S:\\Phys\\FIV925 XSection\\Datasets\\SpinalAtlas\\Dodd and Fiederling\\Cropped\\8_Inverted_Slides\\I8\\C1-Slide1-6_Region0007_Channel555 nm,475 nm,395 nm_Seq0051.tif to BMP\n",
      "Converted S:\\Phys\\FIV925 XSection\\Datasets\\SpinalAtlas\\Dodd and Fiederling\\Cropped\\8_Inverted_Slides\\I8\\C2-Slide1-6_Region0007_Channel555 nm,475 nm,395 nm_Seq0051.tif to BMP\n",
      "Converted S:\\Phys\\FIV925 XSection\\Datasets\\SpinalAtlas\\Dodd and Fiederling\\Cropped\\8_Inverted_Slides\\I8\\C3-Slide1-6_Region0007_Channel555 nm,475 nm,395 nm_Seq0051.tif to BMP\n"
     ]
    }
   ],
   "source": [
    "import os\n",
    "import numpy as np\n",
    "from PIL import Image\n",
    "\n",
    "def convert_tif_to_bmp(file):\n",
    "    # Open the TIFF image\n",
    "    with Image.open(file) as img:\n",
    "        # Check the image mode and convert if necessary\n",
    "        if img.mode == 'I;16' or img.mode == 'I;16B':\n",
    "            # Convert the 16-bit image to an 8-bit image by scaling the pixel values\n",
    "            img = np.array(img, dtype=np.uint16)\n",
    "            img = (img / 256).astype(np.uint8)\n",
    "            img = Image.fromarray(img)\n",
    "        bmp_file = file.replace('.tif', '.bmp')\n",
    "        img.save(bmp_file, format='BMP')\n",
    "    return bmp_file\n",
    "\n",
    "path1 = r\"S:\\Phys\\FIV925 XSection\\Datasets\\SpinalAtlas\\Dodd and Fiederling\\Cropped\\2_Inverted_Slides\\I2\"\n",
    "path2 = r\"S:\\Phys\\FIV925 XSection\\Datasets\\SpinalAtlas\\Dodd and Fiederling\\Cropped\\8_Inverted_Slides\\I8\"\n",
    "\n",
    "list_of_paths = [path1, path2]\n",
    "\n",
    "for path in list_of_paths:\n",
    "    # List all files in the directory\n",
    "    for file in os.listdir(path):\n",
    "        # Check if the file is a TIFF file\n",
    "        if file.endswith('.tif'):\n",
    "            full_path = os.path.join(path, file)\n",
    "            convert_tif_to_bmp(full_path)\n",
    "            print(f\"Converted {full_path} to BMP\")\n"
   ]
  },
  {
   "cell_type": "markdown",
   "metadata": {},
   "source": [
    "## Getting image dimensions"
   ]
  },
  {
   "cell_type": "code",
   "execution_count": 10,
   "metadata": {},
   "outputs": [
    {
     "name": "stdout",
     "output_type": "stream",
     "text": [
      "The dimensions of the image are 2982x2982 pixels.\n",
      "The dimensions of the simulated image are 448x448 pixels.\n"
     ]
    }
   ],
   "source": [
    "from PIL import Image\n",
    "\n",
    "def get_image_dimensions(file):\n",
    "    # Open the BMP image\n",
    "    with Image.open(file) as img:\n",
    "        # Get image dimensions\n",
    "        width, height = img.size\n",
    "    return width, height\n",
    "\n",
    "# Example usage\n",
    "bmp_file = r\"S:\\Phys\\FIV925 XSection\\Datasets\\SpinalAtlas\\Dodd and Fiederling\\Cropped\\8_Inverted_Slides\\I8\\C3-Slide1-6_Region0007_Channel555 nm,475 nm,395 nm_Seq0051.bmp\"\n",
    "width, height = get_image_dimensions(bmp_file)\n",
    "print(f\"The dimensions of the image are {width}x{height} pixels.\")\n",
    "\n",
    "bmp_file2 = r\"S:\\Phys\\FIV925 XSection\\Datasets\\AllenBA\\02c\\val\\000018.bmp\"\n",
    "width, height = get_image_dimensions(bmp_file2)\n",
    "print(f\"The dimensions of the simulated image are {width}x{height} pixels.\")\n"
   ]
  },
  {
   "cell_type": "markdown",
   "metadata": {},
   "source": [
    "## changing image dimensions"
   ]
  },
  {
   "cell_type": "markdown",
   "metadata": {},
   "source": [
    "### first attempt"
   ]
  },
  {
   "cell_type": "code",
   "execution_count": 7,
   "metadata": {},
   "outputs": [
    {
     "ename": "AttributeError",
     "evalue": "module 'PIL.Image' has no attribute 'ANTIALIAS'",
     "output_type": "error",
     "traceback": [
      "\u001b[1;31m---------------------------------------------------------------------------\u001b[0m",
      "\u001b[1;31mAttributeError\u001b[0m                            Traceback (most recent call last)",
      "Cell \u001b[1;32mIn[7], line 17\u001b[0m\n\u001b[0;32m     14\u001b[0m new_height \u001b[38;5;241m=\u001b[39m \u001b[38;5;241m600\u001b[39m  \u001b[38;5;66;03m# Desired height\u001b[39;00m\n\u001b[0;32m     15\u001b[0m output_file \u001b[38;5;241m=\u001b[39m \u001b[38;5;124mr\u001b[39m\u001b[38;5;124m\"\u001b[39m\u001b[38;5;124mS:\u001b[39m\u001b[38;5;124m\\\u001b[39m\u001b[38;5;124mPhys\u001b[39m\u001b[38;5;124m\\\u001b[39m\u001b[38;5;124mFIV925 XSection\u001b[39m\u001b[38;5;124m\\\u001b[39m\u001b[38;5;124mDatasets\u001b[39m\u001b[38;5;124m\\\u001b[39m\u001b[38;5;124mSpinalAtlas\u001b[39m\u001b[38;5;124m\\\u001b[39m\u001b[38;5;124mDodd and Fiederling\u001b[39m\u001b[38;5;124m\\\u001b[39m\u001b[38;5;124mCropped\u001b[39m\u001b[38;5;124m\\\u001b[39m\u001b[38;5;124m8_Inverted_Slides\u001b[39m\u001b[38;5;124m\\\u001b[39m\u001b[38;5;124mI8\u001b[39m\u001b[38;5;124m\\\u001b[39m\u001b[38;5;124m640x640.bmp\u001b[39m\u001b[38;5;124m\"\u001b[39m\n\u001b[1;32m---> 17\u001b[0m \u001b[43mresize_bmp_image\u001b[49m\u001b[43m(\u001b[49m\u001b[43mbmp_file\u001b[49m\u001b[43m,\u001b[49m\u001b[43m \u001b[49m\u001b[43mnew_width\u001b[49m\u001b[43m,\u001b[49m\u001b[43m \u001b[49m\u001b[43mnew_height\u001b[49m\u001b[43m,\u001b[49m\u001b[43m \u001b[49m\u001b[43moutput_file\u001b[49m\u001b[43m)\u001b[49m\n\u001b[0;32m     18\u001b[0m \u001b[38;5;28mprint\u001b[39m(\u001b[38;5;124mf\u001b[39m\u001b[38;5;124m\"\u001b[39m\u001b[38;5;124mResized image saved as \u001b[39m\u001b[38;5;132;01m{\u001b[39;00moutput_file\u001b[38;5;132;01m}\u001b[39;00m\u001b[38;5;124m with dimensions \u001b[39m\u001b[38;5;132;01m{\u001b[39;00mnew_width\u001b[38;5;132;01m}\u001b[39;00m\u001b[38;5;124mx\u001b[39m\u001b[38;5;132;01m{\u001b[39;00mnew_height\u001b[38;5;132;01m}\u001b[39;00m\u001b[38;5;124m pixels.\u001b[39m\u001b[38;5;124m\"\u001b[39m)\n",
      "Cell \u001b[1;32mIn[7], line 7\u001b[0m, in \u001b[0;36mresize_bmp_image\u001b[1;34m(file, new_width, new_height, output_file)\u001b[0m\n\u001b[0;32m      3\u001b[0m \u001b[38;5;28;01mdef\u001b[39;00m \u001b[38;5;21mresize_bmp_image\u001b[39m(file, new_width, new_height, output_file):\n\u001b[0;32m      4\u001b[0m     \u001b[38;5;66;03m# Open the BMP image\u001b[39;00m\n\u001b[0;32m      5\u001b[0m     \u001b[38;5;28;01mwith\u001b[39;00m Image\u001b[38;5;241m.\u001b[39mopen(file) \u001b[38;5;28;01mas\u001b[39;00m img:\n\u001b[0;32m      6\u001b[0m         \u001b[38;5;66;03m# Resize the image\u001b[39;00m\n\u001b[1;32m----> 7\u001b[0m         resized_img \u001b[38;5;241m=\u001b[39m img\u001b[38;5;241m.\u001b[39mresize((new_width, new_height), \u001b[43mImage\u001b[49m\u001b[38;5;241;43m.\u001b[39;49m\u001b[43mANTIALIAS\u001b[49m)\n\u001b[0;32m      8\u001b[0m         \u001b[38;5;66;03m# Save the resized image\u001b[39;00m\n\u001b[0;32m      9\u001b[0m         resized_img\u001b[38;5;241m.\u001b[39msave(output_file, \u001b[38;5;28mformat\u001b[39m\u001b[38;5;241m=\u001b[39m\u001b[38;5;124m'\u001b[39m\u001b[38;5;124mBMP\u001b[39m\u001b[38;5;124m'\u001b[39m)\n",
      "\u001b[1;31mAttributeError\u001b[0m: module 'PIL.Image' has no attribute 'ANTIALIAS'"
     ]
    }
   ],
   "source": [
    "from PIL import Image\n",
    "\n",
    "def resize_bmp_image(file, new_width, new_height, output_file):\n",
    "    # Open the BMP image\n",
    "    with Image.open(file) as img:\n",
    "        # Resize the image\n",
    "        resized_img = img.resize((new_width, new_height), Image.ANTIALIAS)\n",
    "        # Save the resized image\n",
    "        resized_img.save(output_file, format='BMP')\n",
    "\n",
    "# Example usage\n",
    "bmp_file = r\"S:\\Phys\\FIV925 XSection\\Datasets\\SpinalAtlas\\Dodd and Fiederling\\Cropped\\8_Inverted_Slides\\I8\\C3-Slide1-6_Region0007_Channel555 nm,475 nm,395 nm_Seq0051.bmp\"\n",
    "new_width = 640  # Desired width\n",
    "new_height = 640  # Desired height\n",
    "output_file = r\"S:\\Phys\\FIV925 XSection\\Datasets\\SpinalAtlas\\Dodd and Fiederling\\Cropped\\8_Inverted_Slides\\I8\\640x640.bmp\"\n",
    "\n",
    "resize_bmp_image(bmp_file, new_width, new_height, output_file)\n",
    "print(f\"Resized image saved as {output_file} with dimensions {new_width}x{new_height} pixels.\")"
   ]
  },
  {
   "cell_type": "markdown",
   "metadata": {},
   "source": [
    "### second attempt"
   ]
  },
  {
   "cell_type": "code",
   "execution_count": 11,
   "metadata": {},
   "outputs": [
    {
     "name": "stdout",
     "output_type": "stream",
     "text": [
      "Resized image saved as S:\\Phys\\FIV925 XSection\\Datasets\\SpinalAtlas\\Dodd and Fiederling\\Cropped\\8_Inverted_Slides\\I8\\488x488.bmp with dimensions 488x488 pixels.\n"
     ]
    }
   ],
   "source": [
    "from PIL import Image\n",
    "\n",
    "def resize_bmp_image(file, new_width, new_height, output_file):\n",
    "    # Open the BMP image\n",
    "    with Image.open(file) as img:\n",
    "        # Resize the image\n",
    "        resized_img = img.resize((new_width, new_height), Image.Resampling.LANCZOS)\n",
    "        # Save the resized image\n",
    "        resized_img.save(output_file, format='BMP')\n",
    "\n",
    "# Example usage\n",
    "bmp_file = r\"S:\\Phys\\FIV925 XSection\\Datasets\\SpinalAtlas\\Dodd and Fiederling\\Cropped\\8_Inverted_Slides\\I8\\C3-Slide1-6_Region0007_Channel555 nm,475 nm,395 nm_Seq0051.bmp\"\n",
    "new_width = 488  # Desired width\n",
    "new_height = 488  # Desired height\n",
    "output_file = r\"S:\\Phys\\FIV925 XSection\\Datasets\\SpinalAtlas\\Dodd and Fiederling\\Cropped\\8_Inverted_Slides\\I8\\488x488.bmp\"\n",
    "\n",
    "resize_bmp_image(bmp_file, new_width, new_height, output_file)\n",
    "print(f\"Resized image saved as {output_file} with dimensions {new_width}x{new_height} pixels.\")\n"
   ]
  },
  {
   "cell_type": "markdown",
   "metadata": {},
   "source": [
    "## checking whether the image is multi-dimensional or not"
   ]
  },
  {
   "cell_type": "code",
   "execution_count": 15,
   "metadata": {},
   "outputs": [
    {
     "name": "stdout",
     "output_type": "stream",
     "text": [
      "The image is single-channel.\n"
     ]
    }
   ],
   "source": [
    "from PIL import Image\n",
    "\n",
    "def is_multichannel(file):\n",
    "    # Open the image\n",
    "    with Image.open(file) as img:\n",
    "        # Get the image mode\n",
    "        mode = img.mode\n",
    "        # Determine if the image is multichannel\n",
    "        if mode in ['RGB', 'RGBA', 'CMYK']:\n",
    "            return True\n",
    "        else:\n",
    "            return False\n",
    "\n",
    "# Example usage\n",
    "bmp_file = r\"S:\\Phys\\FIV925 XSection\\Datasets\\SpinalAtlas\\Dodd and Fiederling\\Cropped\\8_Inverted_Slides\\I8\\C3-Slide1-6_Region0007_Channel555 nm,475 nm,395 nm_Seq0051.tif\"\n",
    "if is_multichannel(bmp_file):\n",
    "    print(f\"The image is multichannel.\")\n",
    "else:\n",
    "    print(f\"The image is single-channel.\")\n"
   ]
  }
 ],
 "metadata": {
  "kernelspec": {
   "display_name": "torch01",
   "language": "python",
   "name": "python3"
  },
  "language_info": {
   "codemirror_mode": {
    "name": "ipython",
    "version": 3
   },
   "file_extension": ".py",
   "mimetype": "text/x-python",
   "name": "python",
   "nbconvert_exporter": "python",
   "pygments_lexer": "ipython3",
   "version": "3.9.19"
  }
 },
 "nbformat": 4,
 "nbformat_minor": 2
}
