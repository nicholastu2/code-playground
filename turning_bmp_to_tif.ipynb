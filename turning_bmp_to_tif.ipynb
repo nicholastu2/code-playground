{
 "cells": [
  {
   "cell_type": "code",
   "execution_count": 1,
   "metadata": {},
   "outputs": [
    {
     "name": "stdout",
     "output_type": "stream",
     "text": [
      "Converted S:\\Phys\\FIV925 XSection\\Datasets\\SpinalAtlas\\Dodd and Fiederling\\Cropped\\2_Inverted_Slides\\I2\\C3-Slide1-6_Region0007_Channel555 nm,475 nm,395 nm_Seq0051.bmp to S:\\Phys\\FIV925 XSection\\Datasets\\SpinalAtlas\\Dodd and Fiederling\\Cropped\\2_Inverted_Slides\\I2\\C3-Slide1-6_Region0007_Channel555 nm,475 nm,395 nm_Seq0051.tif\n"
     ]
    }
   ],
   "source": [
    "from PIL import Image\n",
    "import os\n",
    "\n",
    "def convert_bmp_to_tif(input_path, output_path):\n",
    "    # Open the BMP image\n",
    "    with Image.open(input_path) as img:\n",
    "        # Save the image in TIFF format\n",
    "        img.save(output_path, format='TIFF')\n",
    "\n",
    "if __name__ == \"__main__\":\n",
    "    # Example usage\n",
    "    input_bmp = r\"S:\\Phys\\FIV925 XSection\\Datasets\\SpinalAtlas\\Dodd and Fiederling\\Cropped\\2_Inverted_Slides\\I2\\C3-Slide1-6_Region0007_Channel555 nm,475 nm,395 nm_Seq0051.bmp\"\n",
    "    output_tif = r\"S:\\Phys\\FIV925 XSection\\Datasets\\SpinalAtlas\\Dodd and Fiederling\\Cropped\\2_Inverted_Slides\\I2\\C3-Slide1-6_Region0007_Channel555 nm,475 nm,395 nm_Seq0051.tif\"\n",
    "    \n",
    "    # Ensure the output directory exists\n",
    "    os.makedirs(os.path.dirname(output_tif), exist_ok=True)\n",
    "    \n",
    "    # Convert BMP to TIFF\n",
    "    convert_bmp_to_tif(input_bmp, output_tif)\n",
    "    print(f\"Converted {input_bmp} to {output_tif}\")\n"
   ]
  }
 ],
 "metadata": {
  "kernelspec": {
   "display_name": "torch01",
   "language": "python",
   "name": "python3"
  },
  "language_info": {
   "codemirror_mode": {
    "name": "ipython",
    "version": 3
   },
   "file_extension": ".py",
   "mimetype": "text/x-python",
   "name": "python",
   "nbconvert_exporter": "python",
   "pygments_lexer": "ipython3",
   "version": "3.9.19"
  }
 },
 "nbformat": 4,
 "nbformat_minor": 2
}
