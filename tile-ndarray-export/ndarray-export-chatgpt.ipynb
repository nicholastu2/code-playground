{
 "cells": [
  {
   "cell_type": "code",
   "execution_count": 7,
   "metadata": {},
   "outputs": [
    {
     "name": "stdout",
     "output_type": "stream",
     "text": [
      "\n"
     ]
    },
    {
     "ename": "error",
     "evalue": "OpenCV(4.9.0) D:\\a\\opencv-python\\opencv-python\\opencv\\modules\\imgproc\\src\\resize.cpp:3789: error: (-215:Assertion failed) !dsize.empty() in function 'cv::hal::resize'\n",
     "output_type": "error",
     "traceback": [
      "\u001b[1;31m---------------------------------------------------------------------------\u001b[0m",
      "\u001b[1;31merror\u001b[0m                                     Traceback (most recent call last)",
      "Cell \u001b[1;32mIn[7], line 59\u001b[0m\n\u001b[0;32m     56\u001b[0m tiles \u001b[38;5;241m=\u001b[39m load_and_tile_image(image_path, tile_size\u001b[38;5;241m=\u001b[39m(\u001b[38;5;241m256\u001b[39m, \u001b[38;5;241m256\u001b[39m))\n\u001b[0;32m     58\u001b[0m \u001b[38;5;66;03m# Process each tile\u001b[39;00m\n\u001b[1;32m---> 59\u001b[0m processed_tiles \u001b[38;5;241m=\u001b[39m [process_tile(tile, model) \u001b[38;5;28;01mfor\u001b[39;00m tile \u001b[38;5;129;01min\u001b[39;00m tiles]\n\u001b[0;32m     61\u001b[0m \u001b[38;5;66;03m# Optional: Visualize or reassemble tiles\u001b[39;00m\n\u001b[0;32m     62\u001b[0m \u001b[38;5;28;01mfor\u001b[39;00m idx, tile \u001b[38;5;129;01min\u001b[39;00m \u001b[38;5;28menumerate\u001b[39m(processed_tiles):\n",
      "Cell \u001b[1;32mIn[7], line 59\u001b[0m, in \u001b[0;36m<listcomp>\u001b[1;34m(.0)\u001b[0m\n\u001b[0;32m     56\u001b[0m tiles \u001b[38;5;241m=\u001b[39m load_and_tile_image(image_path, tile_size\u001b[38;5;241m=\u001b[39m(\u001b[38;5;241m256\u001b[39m, \u001b[38;5;241m256\u001b[39m))\n\u001b[0;32m     58\u001b[0m \u001b[38;5;66;03m# Process each tile\u001b[39;00m\n\u001b[1;32m---> 59\u001b[0m processed_tiles \u001b[38;5;241m=\u001b[39m [\u001b[43mprocess_tile\u001b[49m\u001b[43m(\u001b[49m\u001b[43mtile\u001b[49m\u001b[43m,\u001b[49m\u001b[43m \u001b[49m\u001b[43mmodel\u001b[49m\u001b[43m)\u001b[49m \u001b[38;5;28;01mfor\u001b[39;00m tile \u001b[38;5;129;01min\u001b[39;00m tiles]\n\u001b[0;32m     61\u001b[0m \u001b[38;5;66;03m# Optional: Visualize or reassemble tiles\u001b[39;00m\n\u001b[0;32m     62\u001b[0m \u001b[38;5;28;01mfor\u001b[39;00m idx, tile \u001b[38;5;129;01min\u001b[39;00m \u001b[38;5;28menumerate\u001b[39m(processed_tiles):\n",
      "Cell \u001b[1;32mIn[7], line 34\u001b[0m, in \u001b[0;36mprocess_tile\u001b[1;34m(tile, model)\u001b[0m\n\u001b[0;32m     33\u001b[0m \u001b[38;5;28;01mdef\u001b[39;00m \u001b[38;5;21mprocess_tile\u001b[39m(tile, model):\n\u001b[1;32m---> 34\u001b[0m     cell_centers \u001b[38;5;241m=\u001b[39m \u001b[43mpredict_cells\u001b[49m\u001b[43m(\u001b[49m\u001b[43mtile\u001b[49m\u001b[43m,\u001b[49m\u001b[43m \u001b[49m\u001b[43mmodel\u001b[49m\u001b[43m)\u001b[49m\n\u001b[0;32m     35\u001b[0m     \u001b[38;5;28;01mif\u001b[39;00m \u001b[38;5;129;01mnot\u001b[39;00m cell_centers:\n\u001b[0;32m     36\u001b[0m         \u001b[38;5;28;01mreturn\u001b[39;00m np\u001b[38;5;241m.\u001b[39mzeros(tile\u001b[38;5;241m.\u001b[39mshape[:\u001b[38;5;241m2\u001b[39m], dtype\u001b[38;5;241m=\u001b[39m\u001b[38;5;28mint\u001b[39m)\n",
      "Cell \u001b[1;32mIn[7], line 29\u001b[0m, in \u001b[0;36mpredict_cells\u001b[1;34m(tile, model)\u001b[0m\n\u001b[0;32m     27\u001b[0m tile_image \u001b[38;5;241m=\u001b[39m Image\u001b[38;5;241m.\u001b[39mfromarray(tile)\u001b[38;5;241m.\u001b[39mconvert(\u001b[38;5;124m'\u001b[39m\u001b[38;5;124mRGB\u001b[39m\u001b[38;5;124m'\u001b[39m)\n\u001b[0;32m     28\u001b[0m tile_image \u001b[38;5;241m=\u001b[39m np\u001b[38;5;241m.\u001b[39marray(tile_image)[np\u001b[38;5;241m.\u001b[39mnewaxis, \u001b[38;5;241m.\u001b[39m\u001b[38;5;241m.\u001b[39m\u001b[38;5;241m.\u001b[39m]  \u001b[38;5;66;03m# Add batch dimension\u001b[39;00m\n\u001b[1;32m---> 29\u001b[0m results \u001b[38;5;241m=\u001b[39m \u001b[43mmodel\u001b[49m\u001b[43m(\u001b[49m\u001b[43mtile_image\u001b[49m\u001b[43m)\u001b[49m\n\u001b[0;32m     30\u001b[0m cell_centers \u001b[38;5;241m=\u001b[39m [( (box[\u001b[38;5;241m0\u001b[39m] \u001b[38;5;241m+\u001b[39m box[\u001b[38;5;241m2\u001b[39m]) \u001b[38;5;241m/\u001b[39m \u001b[38;5;241m2\u001b[39m, (box[\u001b[38;5;241m1\u001b[39m] \u001b[38;5;241m+\u001b[39m box[\u001b[38;5;241m3\u001b[39m]) \u001b[38;5;241m/\u001b[39m \u001b[38;5;241m2\u001b[39m ) \u001b[38;5;28;01mfor\u001b[39;00m \u001b[38;5;241m*\u001b[39mbox, conf, \u001b[38;5;28mcls\u001b[39m \u001b[38;5;129;01min\u001b[39;00m results\u001b[38;5;241m.\u001b[39mpred[\u001b[38;5;241m0\u001b[39m]]\n\u001b[0;32m     31\u001b[0m \u001b[38;5;28;01mreturn\u001b[39;00m cell_centers\n",
      "File \u001b[1;32mc:\\Users\\FIVE\\anaconda3\\envs\\torch01\\lib\\site-packages\\ultralytics\\engine\\model.py:177\u001b[0m, in \u001b[0;36mModel.__call__\u001b[1;34m(self, source, stream, **kwargs)\u001b[0m\n\u001b[0;32m    154\u001b[0m \u001b[38;5;28;01mdef\u001b[39;00m \u001b[38;5;21m__call__\u001b[39m(\n\u001b[0;32m    155\u001b[0m     \u001b[38;5;28mself\u001b[39m,\n\u001b[0;32m    156\u001b[0m     source: Union[\u001b[38;5;28mstr\u001b[39m, Path, \u001b[38;5;28mint\u001b[39m, \u001b[38;5;28mlist\u001b[39m, \u001b[38;5;28mtuple\u001b[39m, np\u001b[38;5;241m.\u001b[39mndarray, torch\u001b[38;5;241m.\u001b[39mTensor] \u001b[38;5;241m=\u001b[39m \u001b[38;5;28;01mNone\u001b[39;00m,\n\u001b[0;32m    157\u001b[0m     stream: \u001b[38;5;28mbool\u001b[39m \u001b[38;5;241m=\u001b[39m \u001b[38;5;28;01mFalse\u001b[39;00m,\n\u001b[0;32m    158\u001b[0m     \u001b[38;5;241m*\u001b[39m\u001b[38;5;241m*\u001b[39mkwargs,\n\u001b[0;32m    159\u001b[0m ) \u001b[38;5;241m-\u001b[39m\u001b[38;5;241m>\u001b[39m \u001b[38;5;28mlist\u001b[39m:\n\u001b[0;32m    160\u001b[0m \u001b[38;5;250m    \u001b[39m\u001b[38;5;124;03m\"\"\"\u001b[39;00m\n\u001b[0;32m    161\u001b[0m \u001b[38;5;124;03m    An alias for the predict method, enabling the model instance to be callable.\u001b[39;00m\n\u001b[0;32m    162\u001b[0m \n\u001b[1;32m   (...)\u001b[0m\n\u001b[0;32m    175\u001b[0m \u001b[38;5;124;03m        (List[ultralytics.engine.results.Results]): A list of prediction results, encapsulated in the Results class.\u001b[39;00m\n\u001b[0;32m    176\u001b[0m \u001b[38;5;124;03m    \"\"\"\u001b[39;00m\n\u001b[1;32m--> 177\u001b[0m     \u001b[38;5;28;01mreturn\u001b[39;00m \u001b[38;5;28mself\u001b[39m\u001b[38;5;241m.\u001b[39mpredict(source, stream, \u001b[38;5;241m*\u001b[39m\u001b[38;5;241m*\u001b[39mkwargs)\n",
      "File \u001b[1;32mc:\\Users\\FIVE\\anaconda3\\envs\\torch01\\lib\\site-packages\\ultralytics\\engine\\model.py:453\u001b[0m, in \u001b[0;36mModel.predict\u001b[1;34m(self, source, stream, predictor, **kwargs)\u001b[0m\n\u001b[0;32m    451\u001b[0m \u001b[38;5;28;01mif\u001b[39;00m prompts \u001b[38;5;129;01mand\u001b[39;00m \u001b[38;5;28mhasattr\u001b[39m(\u001b[38;5;28mself\u001b[39m\u001b[38;5;241m.\u001b[39mpredictor, \u001b[38;5;124m\"\u001b[39m\u001b[38;5;124mset_prompts\u001b[39m\u001b[38;5;124m\"\u001b[39m):  \u001b[38;5;66;03m# for SAM-type models\u001b[39;00m\n\u001b[0;32m    452\u001b[0m     \u001b[38;5;28mself\u001b[39m\u001b[38;5;241m.\u001b[39mpredictor\u001b[38;5;241m.\u001b[39mset_prompts(prompts)\n\u001b[1;32m--> 453\u001b[0m \u001b[38;5;28;01mreturn\u001b[39;00m \u001b[38;5;28mself\u001b[39m\u001b[38;5;241m.\u001b[39mpredictor\u001b[38;5;241m.\u001b[39mpredict_cli(source\u001b[38;5;241m=\u001b[39msource) \u001b[38;5;28;01mif\u001b[39;00m is_cli \u001b[38;5;28;01melse\u001b[39;00m \u001b[38;5;28;43mself\u001b[39;49m\u001b[38;5;241;43m.\u001b[39;49m\u001b[43mpredictor\u001b[49m\u001b[43m(\u001b[49m\u001b[43msource\u001b[49m\u001b[38;5;241;43m=\u001b[39;49m\u001b[43msource\u001b[49m\u001b[43m,\u001b[49m\u001b[43m \u001b[49m\u001b[43mstream\u001b[49m\u001b[38;5;241;43m=\u001b[39;49m\u001b[43mstream\u001b[49m\u001b[43m)\u001b[49m\n",
      "File \u001b[1;32mc:\\Users\\FIVE\\anaconda3\\envs\\torch01\\lib\\site-packages\\ultralytics\\engine\\predictor.py:168\u001b[0m, in \u001b[0;36mBasePredictor.__call__\u001b[1;34m(self, source, model, stream, *args, **kwargs)\u001b[0m\n\u001b[0;32m    166\u001b[0m     \u001b[38;5;28;01mreturn\u001b[39;00m \u001b[38;5;28mself\u001b[39m\u001b[38;5;241m.\u001b[39mstream_inference(source, model, \u001b[38;5;241m*\u001b[39margs, \u001b[38;5;241m*\u001b[39m\u001b[38;5;241m*\u001b[39mkwargs)\n\u001b[0;32m    167\u001b[0m \u001b[38;5;28;01melse\u001b[39;00m:\n\u001b[1;32m--> 168\u001b[0m     \u001b[38;5;28;01mreturn\u001b[39;00m \u001b[38;5;28;43mlist\u001b[39;49m\u001b[43m(\u001b[49m\u001b[38;5;28;43mself\u001b[39;49m\u001b[38;5;241;43m.\u001b[39;49m\u001b[43mstream_inference\u001b[49m\u001b[43m(\u001b[49m\u001b[43msource\u001b[49m\u001b[43m,\u001b[49m\u001b[43m \u001b[49m\u001b[43mmodel\u001b[49m\u001b[43m,\u001b[49m\u001b[43m \u001b[49m\u001b[38;5;241;43m*\u001b[39;49m\u001b[43margs\u001b[49m\u001b[43m,\u001b[49m\u001b[43m \u001b[49m\u001b[38;5;241;43m*\u001b[39;49m\u001b[38;5;241;43m*\u001b[39;49m\u001b[43mkwargs\u001b[49m\u001b[43m)\u001b[49m\u001b[43m)\u001b[49m\n",
      "File \u001b[1;32mc:\\Users\\FIVE\\anaconda3\\envs\\torch01\\lib\\site-packages\\torch\\utils\\_contextlib.py:35\u001b[0m, in \u001b[0;36m_wrap_generator.<locals>.generator_context\u001b[1;34m(*args, **kwargs)\u001b[0m\n\u001b[0;32m     32\u001b[0m \u001b[38;5;28;01mtry\u001b[39;00m:\n\u001b[0;32m     33\u001b[0m     \u001b[38;5;66;03m# Issuing `None` to a generator fires it up\u001b[39;00m\n\u001b[0;32m     34\u001b[0m     \u001b[38;5;28;01mwith\u001b[39;00m ctx_factory():\n\u001b[1;32m---> 35\u001b[0m         response \u001b[38;5;241m=\u001b[39m \u001b[43mgen\u001b[49m\u001b[38;5;241;43m.\u001b[39;49m\u001b[43msend\u001b[49m\u001b[43m(\u001b[49m\u001b[38;5;28;43;01mNone\u001b[39;49;00m\u001b[43m)\u001b[49m\n\u001b[0;32m     37\u001b[0m     \u001b[38;5;28;01mwhile\u001b[39;00m \u001b[38;5;28;01mTrue\u001b[39;00m:\n\u001b[0;32m     38\u001b[0m         \u001b[38;5;28;01mtry\u001b[39;00m:\n\u001b[0;32m     39\u001b[0m             \u001b[38;5;66;03m# Forward the response to our caller and get its next request\u001b[39;00m\n",
      "File \u001b[1;32mc:\\Users\\FIVE\\anaconda3\\envs\\torch01\\lib\\site-packages\\ultralytics\\engine\\predictor.py:244\u001b[0m, in \u001b[0;36mBasePredictor.stream_inference\u001b[1;34m(self, source, model, *args, **kwargs)\u001b[0m\n\u001b[0;32m    242\u001b[0m \u001b[38;5;66;03m# Preprocess\u001b[39;00m\n\u001b[0;32m    243\u001b[0m \u001b[38;5;28;01mwith\u001b[39;00m profilers[\u001b[38;5;241m0\u001b[39m]:\n\u001b[1;32m--> 244\u001b[0m     im \u001b[38;5;241m=\u001b[39m \u001b[38;5;28;43mself\u001b[39;49m\u001b[38;5;241;43m.\u001b[39;49m\u001b[43mpreprocess\u001b[49m\u001b[43m(\u001b[49m\u001b[43mim0s\u001b[49m\u001b[43m)\u001b[49m\n\u001b[0;32m    246\u001b[0m \u001b[38;5;66;03m# Inference\u001b[39;00m\n\u001b[0;32m    247\u001b[0m \u001b[38;5;28;01mwith\u001b[39;00m profilers[\u001b[38;5;241m1\u001b[39m]:\n",
      "File \u001b[1;32mc:\\Users\\FIVE\\anaconda3\\envs\\torch01\\lib\\site-packages\\ultralytics\\engine\\predictor.py:124\u001b[0m, in \u001b[0;36mBasePredictor.preprocess\u001b[1;34m(self, im)\u001b[0m\n\u001b[0;32m    122\u001b[0m not_tensor \u001b[38;5;241m=\u001b[39m \u001b[38;5;129;01mnot\u001b[39;00m \u001b[38;5;28misinstance\u001b[39m(im, torch\u001b[38;5;241m.\u001b[39mTensor)\n\u001b[0;32m    123\u001b[0m \u001b[38;5;28;01mif\u001b[39;00m not_tensor:\n\u001b[1;32m--> 124\u001b[0m     im \u001b[38;5;241m=\u001b[39m np\u001b[38;5;241m.\u001b[39mstack(\u001b[38;5;28;43mself\u001b[39;49m\u001b[38;5;241;43m.\u001b[39;49m\u001b[43mpre_transform\u001b[49m\u001b[43m(\u001b[49m\u001b[43mim\u001b[49m\u001b[43m)\u001b[49m)\n\u001b[0;32m    125\u001b[0m     im \u001b[38;5;241m=\u001b[39m im[\u001b[38;5;241m.\u001b[39m\u001b[38;5;241m.\u001b[39m\u001b[38;5;241m.\u001b[39m, ::\u001b[38;5;241m-\u001b[39m\u001b[38;5;241m1\u001b[39m]\u001b[38;5;241m.\u001b[39mtranspose((\u001b[38;5;241m0\u001b[39m, \u001b[38;5;241m3\u001b[39m, \u001b[38;5;241m1\u001b[39m, \u001b[38;5;241m2\u001b[39m))  \u001b[38;5;66;03m# BGR to RGB, BHWC to BCHW, (n, 3, h, w)\u001b[39;00m\n\u001b[0;32m    126\u001b[0m     im \u001b[38;5;241m=\u001b[39m np\u001b[38;5;241m.\u001b[39mascontiguousarray(im)  \u001b[38;5;66;03m# contiguous\u001b[39;00m\n",
      "File \u001b[1;32mc:\\Users\\FIVE\\anaconda3\\envs\\torch01\\lib\\site-packages\\ultralytics\\engine\\predictor.py:156\u001b[0m, in \u001b[0;36mBasePredictor.pre_transform\u001b[1;34m(self, im)\u001b[0m\n\u001b[0;32m    154\u001b[0m same_shapes \u001b[38;5;241m=\u001b[39m \u001b[38;5;28mlen\u001b[39m({x\u001b[38;5;241m.\u001b[39mshape \u001b[38;5;28;01mfor\u001b[39;00m x \u001b[38;5;129;01min\u001b[39;00m im}) \u001b[38;5;241m==\u001b[39m \u001b[38;5;241m1\u001b[39m\n\u001b[0;32m    155\u001b[0m letterbox \u001b[38;5;241m=\u001b[39m LetterBox(\u001b[38;5;28mself\u001b[39m\u001b[38;5;241m.\u001b[39mimgsz, auto\u001b[38;5;241m=\u001b[39msame_shapes \u001b[38;5;129;01mand\u001b[39;00m \u001b[38;5;28mself\u001b[39m\u001b[38;5;241m.\u001b[39mmodel\u001b[38;5;241m.\u001b[39mpt, stride\u001b[38;5;241m=\u001b[39m\u001b[38;5;28mself\u001b[39m\u001b[38;5;241m.\u001b[39mmodel\u001b[38;5;241m.\u001b[39mstride)\n\u001b[1;32m--> 156\u001b[0m \u001b[38;5;28;01mreturn\u001b[39;00m [letterbox(image\u001b[38;5;241m=\u001b[39mx) \u001b[38;5;28;01mfor\u001b[39;00m x \u001b[38;5;129;01min\u001b[39;00m im]\n",
      "File \u001b[1;32mc:\\Users\\FIVE\\anaconda3\\envs\\torch01\\lib\\site-packages\\ultralytics\\engine\\predictor.py:156\u001b[0m, in \u001b[0;36m<listcomp>\u001b[1;34m(.0)\u001b[0m\n\u001b[0;32m    154\u001b[0m same_shapes \u001b[38;5;241m=\u001b[39m \u001b[38;5;28mlen\u001b[39m({x\u001b[38;5;241m.\u001b[39mshape \u001b[38;5;28;01mfor\u001b[39;00m x \u001b[38;5;129;01min\u001b[39;00m im}) \u001b[38;5;241m==\u001b[39m \u001b[38;5;241m1\u001b[39m\n\u001b[0;32m    155\u001b[0m letterbox \u001b[38;5;241m=\u001b[39m LetterBox(\u001b[38;5;28mself\u001b[39m\u001b[38;5;241m.\u001b[39mimgsz, auto\u001b[38;5;241m=\u001b[39msame_shapes \u001b[38;5;129;01mand\u001b[39;00m \u001b[38;5;28mself\u001b[39m\u001b[38;5;241m.\u001b[39mmodel\u001b[38;5;241m.\u001b[39mpt, stride\u001b[38;5;241m=\u001b[39m\u001b[38;5;28mself\u001b[39m\u001b[38;5;241m.\u001b[39mmodel\u001b[38;5;241m.\u001b[39mstride)\n\u001b[1;32m--> 156\u001b[0m \u001b[38;5;28;01mreturn\u001b[39;00m [\u001b[43mletterbox\u001b[49m\u001b[43m(\u001b[49m\u001b[43mimage\u001b[49m\u001b[38;5;241;43m=\u001b[39;49m\u001b[43mx\u001b[49m\u001b[43m)\u001b[49m \u001b[38;5;28;01mfor\u001b[39;00m x \u001b[38;5;129;01min\u001b[39;00m im]\n",
      "File \u001b[1;32mc:\\Users\\FIVE\\anaconda3\\envs\\torch01\\lib\\site-packages\\ultralytics\\data\\augment.py:771\u001b[0m, in \u001b[0;36mLetterBox.__call__\u001b[1;34m(self, labels, image)\u001b[0m\n\u001b[0;32m    768\u001b[0m     dh \u001b[38;5;241m/\u001b[39m\u001b[38;5;241m=\u001b[39m \u001b[38;5;241m2\u001b[39m\n\u001b[0;32m    770\u001b[0m \u001b[38;5;28;01mif\u001b[39;00m shape[::\u001b[38;5;241m-\u001b[39m\u001b[38;5;241m1\u001b[39m] \u001b[38;5;241m!=\u001b[39m new_unpad:  \u001b[38;5;66;03m# resize\u001b[39;00m\n\u001b[1;32m--> 771\u001b[0m     img \u001b[38;5;241m=\u001b[39m \u001b[43mcv2\u001b[49m\u001b[38;5;241;43m.\u001b[39;49m\u001b[43mresize\u001b[49m\u001b[43m(\u001b[49m\u001b[43mimg\u001b[49m\u001b[43m,\u001b[49m\u001b[43m \u001b[49m\u001b[43mnew_unpad\u001b[49m\u001b[43m,\u001b[49m\u001b[43m \u001b[49m\u001b[43minterpolation\u001b[49m\u001b[38;5;241;43m=\u001b[39;49m\u001b[43mcv2\u001b[49m\u001b[38;5;241;43m.\u001b[39;49m\u001b[43mINTER_LINEAR\u001b[49m\u001b[43m)\u001b[49m\n\u001b[0;32m    772\u001b[0m top, bottom \u001b[38;5;241m=\u001b[39m \u001b[38;5;28mint\u001b[39m(\u001b[38;5;28mround\u001b[39m(dh \u001b[38;5;241m-\u001b[39m \u001b[38;5;241m0.1\u001b[39m)) \u001b[38;5;28;01mif\u001b[39;00m \u001b[38;5;28mself\u001b[39m\u001b[38;5;241m.\u001b[39mcenter \u001b[38;5;28;01melse\u001b[39;00m \u001b[38;5;241m0\u001b[39m, \u001b[38;5;28mint\u001b[39m(\u001b[38;5;28mround\u001b[39m(dh \u001b[38;5;241m+\u001b[39m \u001b[38;5;241m0.1\u001b[39m))\n\u001b[0;32m    773\u001b[0m left, right \u001b[38;5;241m=\u001b[39m \u001b[38;5;28mint\u001b[39m(\u001b[38;5;28mround\u001b[39m(dw \u001b[38;5;241m-\u001b[39m \u001b[38;5;241m0.1\u001b[39m)) \u001b[38;5;28;01mif\u001b[39;00m \u001b[38;5;28mself\u001b[39m\u001b[38;5;241m.\u001b[39mcenter \u001b[38;5;28;01melse\u001b[39;00m \u001b[38;5;241m0\u001b[39m, \u001b[38;5;28mint\u001b[39m(\u001b[38;5;28mround\u001b[39m(dw \u001b[38;5;241m+\u001b[39m \u001b[38;5;241m0.1\u001b[39m))\n",
      "\u001b[1;31merror\u001b[0m: OpenCV(4.9.0) D:\\a\\opencv-python\\opencv-python\\opencv\\modules\\imgproc\\src\\resize.cpp:3789: error: (-215:Assertion failed) !dsize.empty() in function 'cv::hal::resize'\n"
     ]
    }
   ],
   "source": [
    "import numpy as np\n",
    "import tifffile as tiff\n",
    "from PIL import Image\n",
    "from ultralytics import YOLO\n",
    "from scipy.spatial import Voronoi\n",
    "import matplotlib.pyplot as plt\n",
    "from matplotlib.path import Path\n",
    "\n",
    "def load_and_tile_image(image_path, tile_size):\n",
    "    image = tiff.imread(image_path)\n",
    "    tiles = []\n",
    "    for i in range(0, image.shape[0], tile_size[1]):\n",
    "        for j in range(0, image.shape[1], tile_size[0]):\n",
    "            tile = image[i:i + tile_size[1], j:j + tile_size[0]]\n",
    "            if tile.shape[0] != tile_size[1] or tile.shape[1] != tile_size[0]:\n",
    "                # Pad the tile if it does not meet the expected dimensions\n",
    "                tile = np.pad(tile, [(0, max(0, tile_size[1] - tile.shape[0])), \n",
    "                                     (0, max(0, tile_size[0] - tile.shape[1]))], \n",
    "                              mode='constant', constant_values=0)\n",
    "            tiles.append(tile)\n",
    "    return tiles\n",
    "\n",
    "def predict_cells(tile, model):\n",
    "    if tile.size == 0:\n",
    "        return []\n",
    "    # Convert tile to RGB and add batch dimension for YOLO\n",
    "    tile_image = Image.fromarray(tile).convert('RGB')\n",
    "    tile_image = np.array(tile_image)[np.newaxis, ...]  # Add batch dimension\n",
    "    results = model(tile_image)\n",
    "    cell_centers = [( (box[0] + box[2]) / 2, (box[1] + box[3]) / 2 ) for *box, conf, cls in results.pred[0]]\n",
    "    return cell_centers\n",
    "\n",
    "def process_tile(tile, model):\n",
    "    cell_centers = predict_cells(tile, model)\n",
    "    if not cell_centers:\n",
    "        return np.zeros(tile.shape[:2], dtype=int)\n",
    "    vor = Voronoi(cell_centers)\n",
    "    tile_array = np.zeros(tile.shape[:2], dtype=int)\n",
    "    for region_idx, region in enumerate(vor.regions):\n",
    "        if not -1 in region:\n",
    "            polygon = [vor.vertices[i] for i in region if i >= 0 and i < len(vor.vertices)]\n",
    "            path = Path(polygon)\n",
    "            x, y = np.meshgrid(np.arange(tile_array.shape[1]), np.arange(tile_array.shape[0]))\n",
    "            points = np.vstack((x.flatten(), y.flatten())).T\n",
    "            grid = path.contains_points(points)\n",
    "            grid = grid.reshape(tile_array.shape)\n",
    "            tile_array[grid] = region_idx + 1\n",
    "    return tile_array\n",
    "\n",
    "# Load and initialize the model\n",
    "model_path = r\"S:\\Phys\\FIV925 XSection\\Datasets\\Brain\\01c\\YO 432 0515 Snow\\map75=0641477  pt65 idx=2 ep=4 btch=16 rnd=7684896\\weights\\best.pt\"\n",
    "model = YOLO(model_path)\n",
    "\n",
    "# Load and tile the image\n",
    "image_path = r\"S:\\Phys\\FIV925 XSection\\Datasets\\Human Lung\\Infer\\DAPI\\DAPI_Juanru_Lung_DAPI.tif\"\n",
    "tiles = load_and_tile_image(image_path, tile_size=(256, 256))\n",
    "\n",
    "# Process each tile\n",
    "processed_tiles = [process_tile(tile, model) for tile in tiles]\n",
    "\n",
    "# Optional: Visualize or reassemble tiles\n",
    "for idx, tile in enumerate(processed_tiles):\n",
    "    plt.figure(figsize=(5, 5))\n",
    "    plt.title(f'Tile {idx+1}')\n",
    "    plt.imshow(tile, cmap='jet')\n",
    "    plt.colorbar()\n",
    "    plt.show()\n",
    "\n",
    "\n"
   ]
  }
 ],
 "metadata": {
  "kernelspec": {
   "display_name": "torch01",
   "language": "python",
   "name": "python3"
  },
  "language_info": {
   "codemirror_mode": {
    "name": "ipython",
    "version": 3
   },
   "file_extension": ".py",
   "mimetype": "text/x-python",
   "name": "python",
   "nbconvert_exporter": "python",
   "pygments_lexer": "ipython3",
   "version": "3.9.19"
  }
 },
 "nbformat": 4,
 "nbformat_minor": 2
}
