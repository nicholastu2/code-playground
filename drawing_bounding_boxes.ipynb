{
 "cells": [
  {
   "cell_type": "code",
   "execution_count": null,
   "metadata": {},
   "outputs": [],
   "source": [
    "def draw_bounding_boxes_yolo(image, bounding_boxes, class_ids):\n",
    "    \"\"\"\n",
    "    Draw bounding boxes on an image with different colors based on class ID.\n",
    "\n",
    "    :param image: The input image on which to draw.\n",
    "    :param bounding_boxes: A list of bounding boxes.\n",
    "    :param class_ids: A list of class IDs corresponding to each bounding box.\n",
    "    :return: The image with drawn bounding boxes.\n",
    "    \"\"\"\n",
    "    for bbox, class_id in zip(bounding_boxes, class_ids):\n",
    "        # Unpack the bounding box coordinates\n",
    "        x1, y1, x2, y2 = bbox\n",
    "        # Get the color based on class_id\n",
    "        color = colors.get(class_id, (255, 255, 255))  # Default color is white if class_id is not in colors\n",
    "        # Draw the bounding box\n",
    "        cv2.rectangle(image, (x1, y1), (x2, y2), color, 2)\n",
    "    return image"
   ]
  }
 ],
 "metadata": {
  "language_info": {
   "name": "python"
  }
 },
 "nbformat": 4,
 "nbformat_minor": 2
}
